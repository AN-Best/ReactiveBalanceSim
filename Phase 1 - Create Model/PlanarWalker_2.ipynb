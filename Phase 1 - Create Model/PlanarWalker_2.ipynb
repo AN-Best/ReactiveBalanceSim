{
 "cells": [
  {
   "cell_type": "code",
   "execution_count": 231,
   "metadata": {},
   "outputs": [],
   "source": [
    "import numpy as np\n",
    "import sympy as sm\n",
    "import sympy.physics.mechanics as me\n",
    "from sympy.physics.vector import init_vprinting, vlatex\n",
    "from pydy.codegen.ode_function_generators import generate_ode_function\n",
    "from scipy.integrate import odeint\n",
    "from pydy.viz.shapes import Cylinder, Sphere\n",
    "import pydy.viz\n",
    "pydy.viz.shapes.__all__\n",
    "from pydy.viz.visualization_frame import VisualizationFrame\n",
    "from pydy.viz.scene import Scene"
   ]
  },
  {
   "cell_type": "markdown",
   "metadata": {},
   "source": [
    "**Reference Frames:** Create reference frames for all of the bodies     "
   ]
  },
  {
   "cell_type": "code",
   "execution_count": 232,
   "metadata": {},
   "outputs": [],
   "source": [
    "world_frame = me.ReferenceFrame('W')\n",
    "pelvis_frame = me.ReferenceFrame('P')\n",
    "torso_frame = me.ReferenceFrame('T')\n",
    "right_thigh_frame = me.ReferenceFrame('RT')\n",
    "left_thigh_frame = me.ReferenceFrame('LT')\n",
    "right_shank_frame = me.ReferenceFrame('RS')\n",
    "left_shank_frame = me.ReferenceFrame('LS')\n",
    "right_foot_frame = me.ReferenceFrame('RF')\n",
    "left_foot_frame = me.ReferenceFrame('LF')"
   ]
  },
  {
   "cell_type": "markdown",
   "metadata": {},
   "source": [
    "**CoM Points:** Create points for the CoM of each body"
   ]
  },
  {
   "cell_type": "code",
   "execution_count": 233,
   "metadata": {},
   "outputs": [],
   "source": [
    "origin = me.Point('O')\n",
    "pelvis_mass_center = me.Point('P_CoM')\n",
    "torso_mass_center = me.Point('T_CoM')\n",
    "right_thigh_mass_center = me.Point('RT_CoM')\n",
    "left_thigh_mass_center = me.Point('LT_CoM')\n",
    "right_shank_mass_center = me.Point('RS_CoM')\n",
    "left_shank_mass_center = me.Point('LS_CoM')\n",
    "right_foot_mass_center = me.Point('RF_CoM')\n",
    "left_foot_mass_center = me.Point('LF_CoM')"
   ]
  },
  {
   "cell_type": "markdown",
   "metadata": {},
   "source": [
    "**Generalized Coordinates and Speeds:**"
   ]
  },
  {
   "cell_type": "code",
   "execution_count": 234,
   "metadata": {},
   "outputs": [],
   "source": [
    "# Create the generalized coordinates\n",
    "qPx, qPy, qPz, qL, qRH, qRK, qRA, qLH, qLK, qLA = me.dynamicsymbols('qPx qPy qPz qL qRH qRK qRA qLH qLK qLA')\n",
    "# Create the generalized speeds\n",
    "vPx, vPy, vPz, vL, vRH, vRK, vRA, vLH, vLK, vLA = me.dynamicsymbols('vPx vPy vPz vL vRH vRK vRA vLH vLK vLA')"
   ]
  },
  {
   "cell_type": "markdown",
   "metadata": {},
   "source": [
    "**Constants:** Define the required constants"
   ]
  },
  {
   "cell_type": "code",
   "execution_count": 235,
   "metadata": {},
   "outputs": [],
   "source": [
    "#Mass\n",
    "pelvis_mass, torso_mass, thigh_mass, shank_mass, foot_mass = sm.symbols('m_pelvis m_torso m_thigh m_shank m_foot')\n",
    "#Moment of Inertia\n",
    "pelvis_inertia, torso_inertia, thigh_inertia, shank_inertia, foot_inertia = sm.symbols('I_pelvis I_torso I_thigh I_shank I_foot')\n",
    "#Declare the necessary length of each segment\n",
    "pelvis_length, torso_length, thigh_length, shank_length, foot_length = sm.symbols('L_pelvis L_torso L_thigh L_shank L_foot')\n",
    "#Declare the width of the foot\n",
    "foot_width = sm.symbols('W_foot')\n",
    "#Height of the CoM - relative to the bottom end of the segment\n",
    "pelvis_com_length, torso_com_length, thigh_com_length, shank_com_length, foot_com_length = sm.symbols('c_pelvis c_torso c_thigh c_shank c_foot')\n",
    "#Forward position of the foot CoM\n",
    "foot_com_length_x = sm.symbols('cx_foot')"
   ]
  },
  {
   "cell_type": "markdown",
   "metadata": {},
   "source": [
    "**System:** Declare the system"
   ]
  },
  {
   "cell_type": "code",
   "execution_count": 236,
   "metadata": {},
   "outputs": [],
   "source": [
    "system = me.System(world_frame,origin)"
   ]
  },
  {
   "cell_type": "markdown",
   "metadata": {},
   "source": [
    "**Rigid Bodies:** Define the rigid bodies"
   ]
  },
  {
   "cell_type": "code",
   "execution_count": 237,
   "metadata": {},
   "outputs": [],
   "source": [
    "world = me.RigidBody('World',\n",
    "                     masscenter=origin,\n",
    "                     frame = world_frame)\n",
    "\n",
    "pelvis = me.RigidBody('Pelvis',\n",
    "                      masscenter = pelvis_mass_center,\n",
    "                      frame = pelvis_frame,\n",
    "                      mass = pelvis_mass,\n",
    "                      inertia = (me.inertia(pelvis_frame,\n",
    "                                            ixx = 0,\n",
    "                                            iyy = 0,\n",
    "                                            izz = pelvis_inertia,\n",
    "                                            ixy = 0,\n",
    "                                            iyz = 0,\n",
    "                                            izx = 0),\n",
    "                                            pelvis_mass_center))\n",
    "\n",
    "torso = me.RigidBody('Torso',\n",
    "                     masscenter = torso_mass_center,\n",
    "                     frame = torso_frame,\n",
    "                     mass = torso_mass,\n",
    "                     inertia = (me.inertia(torso_frame,\n",
    "                                           ixx = 0,\n",
    "                                           iyy = 0,\n",
    "                                           izz = torso_inertia,\n",
    "                                           ixy = 0,\n",
    "                                           iyz = 0,\n",
    "                                           izx = 0,),\n",
    "                                           torso_mass_center))\n",
    "\n",
    "right_thigh = me.RigidBody('Right Thigh',\n",
    "                           masscenter = right_thigh_mass_center,\n",
    "                           frame = right_thigh_frame,\n",
    "                           mass = thigh_mass,\n",
    "                           inertia = (me.inertia(right_thigh_frame,\n",
    "                                                 ixx = 0,\n",
    "                                                 iyy = 0,\n",
    "                                                 izz = thigh_inertia,\n",
    "                                                 ixy = 0,\n",
    "                                                 iyz = 0,\n",
    "                                                 izx = 0),\n",
    "                                                 right_thigh_mass_center))\n",
    "\n",
    "left_thigh = me.RigidBody('Left Thigh',\n",
    "                           masscenter = left_thigh_mass_center,\n",
    "                           frame = left_thigh_frame,\n",
    "                           mass = thigh_mass,\n",
    "                           inertia = (me.inertia(left_thigh_frame,\n",
    "                                                 ixx = 0,\n",
    "                                                 iyy = 0,\n",
    "                                                 izz = thigh_inertia,\n",
    "                                                 ixy = 0,\n",
    "                                                 iyz = 0,\n",
    "                                                 izx = 0),\n",
    "                                                 left_thigh_mass_center))\n",
    "\n",
    "right_shank = me.RigidBody('Right Shank',\n",
    "                           masscenter = right_shank_mass_center,\n",
    "                           frame = right_shank_frame,\n",
    "                           mass = shank_mass,\n",
    "                           inertia = (me.inertia(right_shank_frame,\n",
    "                                                 ixx = 0,\n",
    "                                                 iyy = 0,\n",
    "                                                 izz = shank_inertia,\n",
    "                                                 ixy = 0,\n",
    "                                                 iyz = 0,\n",
    "                                                 izx = 0),\n",
    "                                                 right_shank_mass_center))\n",
    "\n",
    "left_shank = me.RigidBody('Left Shank',\n",
    "                           masscenter = left_shank_mass_center,\n",
    "                           frame = left_shank_frame,\n",
    "                           mass = shank_mass,\n",
    "                           inertia = (me.inertia(left_shank_frame,\n",
    "                                                 ixx = 0,\n",
    "                                                 iyy = 0,\n",
    "                                                 izz = shank_inertia,\n",
    "                                                 ixy = 0,\n",
    "                                                 iyz = 0,\n",
    "                                                 izx = 0),\n",
    "                                                 left_shank_mass_center))\n",
    "\n",
    "right_foot = me.RigidBody('Right Foot',\n",
    "                           masscenter = right_foot_mass_center,\n",
    "                           frame = right_foot_frame,\n",
    "                           mass = foot_mass,\n",
    "                           inertia = (me.inertia(right_foot_frame,\n",
    "                                                 ixx = 0,\n",
    "                                                 iyy = 0,\n",
    "                                                 izz = foot_inertia,\n",
    "                                                 ixy = 0,\n",
    "                                                 iyz = 0,\n",
    "                                                 izx = 0),\n",
    "                                                 right_foot_mass_center))\n",
    "\n",
    "left_foot = me.RigidBody('Left Foot',\n",
    "                           masscenter = left_foot_mass_center,\n",
    "                           frame = left_foot_frame,\n",
    "                           mass = foot_mass,\n",
    "                           inertia = (me.inertia(left_foot_frame,\n",
    "                                                 ixx = 0,\n",
    "                                                 iyy = 0,\n",
    "                                                 izz = foot_inertia,\n",
    "                                                 ixy = 0,\n",
    "                                                 iyz = 0,\n",
    "                                                 izx = 0),\n",
    "                                                 left_foot_mass_center))"
   ]
  },
  {
   "cell_type": "markdown",
   "metadata": {},
   "source": [
    "**Add Bodies:** Add the bodies to the system"
   ]
  },
  {
   "cell_type": "code",
   "execution_count": 238,
   "metadata": {},
   "outputs": [],
   "source": [
    "system.add_bodies(world,pelvis,torso,\n",
    "                  right_thigh,left_thigh,\n",
    "                  right_shank,left_shank,\n",
    "                  right_foot,left_foot)"
   ]
  },
  {
   "cell_type": "markdown",
   "metadata": {},
   "source": [
    "**Joints:** Define the joints between the bodies"
   ]
  },
  {
   "cell_type": "code",
   "execution_count": 239,
   "metadata": {},
   "outputs": [],
   "source": [
    "slider_Px = me.PrismaticJoint('Pelvis X',\n",
    "                              parent = world,\n",
    "                              child  = pelvis,\n",
    "                              coordinates=qPx,\n",
    "                              speeds = vPx,\n",
    "                              joint_axis=world_frame.x)\n",
    "\n",
    "slider_Py = me.PrismaticJoint('Pelvis Y',\n",
    "                              parent = world,\n",
    "                              child  = pelvis,\n",
    "                              coordinates=qPy,\n",
    "                              speeds = vPy,\n",
    "                              joint_axis=world_frame.y)\n",
    "\n",
    "revolute_Pz = me.PinJoint('Pelvis Z',\n",
    "                          parent = world,\n",
    "                          child = pelvis,\n",
    "                          coordinates=qPz,\n",
    "                          speeds = vPz,\n",
    "                          joint_axis=world_frame.z)\n",
    "\n",
    "lumbar = me.PinJoint('Lumbar',\n",
    "                     parent = pelvis,\n",
    "                     child = torso,\n",
    "                     coordinates = qL,\n",
    "                     speeds = vL,\n",
    "                     parent_point = (pelvis_length-pelvis_com_length)*pelvis_frame.y,\n",
    "                     child_point = -torso_com_length*torso_frame.y)\n",
    "\n",
    "right_hip = me.PinJoint('Right Hip',\n",
    "                        parent = pelvis,\n",
    "                        child = right_thigh,\n",
    "                        coordinates = qRH,\n",
    "                        speeds = vRH,\n",
    "                        parent_point = -pelvis_com_length*pelvis_frame.y,\n",
    "                        child_point = (thigh_length-thigh_com_length)*right_thigh_frame.y)\n",
    "\n",
    "left_hip = me.PinJoint('Left Hip',\n",
    "                        parent = pelvis,\n",
    "                        child = left_thigh,\n",
    "                        coordinates = qLH,\n",
    "                        speeds = vLH,\n",
    "                        parent_point = -pelvis_com_length*pelvis_frame.y,\n",
    "                        child_point = (thigh_length-thigh_com_length)*left_thigh_frame.y)\n",
    "\n",
    "right_knee = me.PinJoint('Right Knee',\n",
    "                         parent = right_thigh,\n",
    "                         child = right_shank,\n",
    "                         coordinates = qRK,\n",
    "                         speeds = vRK,\n",
    "                         parent_point = -thigh_com_length*right_thigh_frame.y,\n",
    "                         child_point = (shank_length-shank_com_length)*right_shank.y)\n",
    "\n",
    "left_knee = me.PinJoint('Left Knee',\n",
    "                         parent = left_thigh,\n",
    "                         child = left_shank,\n",
    "                         coordinates = qLK,\n",
    "                         speeds = vLK,\n",
    "                         parent_point = -thigh_com_length*left_thigh_frame.y,\n",
    "                         child_point = (shank_length-shank_com_length)*left_shank.y)\n",
    "\n",
    "right_ankle = me.PinJoint('Right Ankle',\n",
    "                          parent = right_shank,\n",
    "                          child = right_foot,\n",
    "                          coordinates = qRA,\n",
    "                          speeds = vRA,\n",
    "                          parent_point = -shank_com_length*right_shank_frame.y,\n",
    "                          child_point = (foot_length-foot_com_length)*right_foot_frame.y - foot_com_length_x*right_foot_frame.x)\n",
    "\n",
    "left_ankle = me.PinJoint('Left Ankle',\n",
    "                          parent = left_shank,\n",
    "                          child = left_foot,\n",
    "                          coordinates = qLA,\n",
    "                          speeds = vLA,\n",
    "                          parent_point = -shank_com_length*left_shank_frame.y,\n",
    "                          child_point = (foot_length-foot_com_length)*left_foot_frame.y - foot_com_length_x*left_foot_frame.x)"
   ]
  },
  {
   "cell_type": "markdown",
   "metadata": {},
   "source": [
    "**Add Joints:** Add the joints to the system"
   ]
  },
  {
   "cell_type": "code",
   "execution_count": 240,
   "metadata": {},
   "outputs": [],
   "source": [
    "system.add_joints(slider_Px,slider_Py,\n",
    "                  revolute_Pz, lumbar,\n",
    "                  right_hip,left_hip,\n",
    "                  right_knee, left_knee,\n",
    "                  right_ankle,left_ankle)"
   ]
  },
  {
   "cell_type": "markdown",
   "metadata": {},
   "source": [
    "**Joint Actuators:** Add actuators to the joints"
   ]
  },
  {
   "cell_type": "code",
   "execution_count": null,
   "metadata": {},
   "outputs": [],
   "source": [
    "# Create generalized forces\n",
    "uL, uRH, uRK, uRA, uLH, uLK, uLA = me.dynamicsymbols('uL uRH uRK uRA uLH uLK uLA')\n",
    "\n",
    "\n",
    "system.add_actuators(me.TorqueActuator(uL,pelvis_frame.z,torso_frame,pelvis_frame),\n",
    "                     me.TorqueActuator(uRH,pelvis.z,pelvis,right_thigh),\n",
    "                     me.TorqueActuator(uLH,pelvis.z,pelvis,left_thigh),\n",
    "                     me.TorqueActuator(uRK,right_thigh.z,right_thigh,right_shank),\n",
    "                     me.TorqueActuator(uLK,left_thigh.z,left_thigh,left_shank),\n",
    "                     me.TorqueActuator(uRA,right_shank.z,right_shank,right_foot),\n",
    "                     me.TorqueActuator(uLA,left_shank.z,left_shank,left_foot))\n",
    "\n",
    "#Gravity\n",
    "g = sm.symbols('g')\n",
    "system.apply_uniform_gravity(-g*world_frame.y)"
   ]
  },
  {
   "cell_type": "markdown",
   "metadata": {},
   "source": [
    "**Equations of Motion:** Use Kane's method to find mass matrix and forcing vector"
   ]
  },
  {
   "cell_type": "code",
   "execution_count": 242,
   "metadata": {},
   "outputs": [],
   "source": [
    "system.form_eoms(explicit_kinematics = True)\n",
    "mass_matrix = system.mass_matrix_full\n",
    "forcing_vector = system.forcing_full"
   ]
  },
  {
   "cell_type": "markdown",
   "metadata": {},
   "source": [
    "**Generate ODE:** Use PyDy to generate the ODE"
   ]
  },
  {
   "cell_type": "code",
   "execution_count": 243,
   "metadata": {},
   "outputs": [
    {
     "name": "stdout",
     "output_type": "stream",
     "text": [
      "Help on function rhs in module pydy.codegen.ode_function_generators:\n",
      "\n",
      "rhs(*args)\n",
      "    Returns the derivatives of the states, i.e. numerically evaluates the right\n",
      "    hand side of the first order differential equation.\n",
      "\n",
      "    x' = f(x, t, r, p)\n",
      "\n",
      "    Parameters\n",
      "    ==========\n",
      "    x : ndarray, shape(20,)\n",
      "        The state vector is ordered as such:\n",
      "            - qPx(t)\n",
      "            - qPy(t)\n",
      "            - qPz(t)\n",
      "            - qL(t)\n",
      "            - qRH(t)\n",
      "            - qLH(t)\n",
      "            - qRK(t)\n",
      "            - qLK(t)\n",
      "            - qRA(t)\n",
      "            - qLA(t)\n",
      "            - vPx(t)\n",
      "            - vPy(t)\n",
      "            - vPz(t)\n",
      "            - vL(t)\n",
      "            - vRH(t)\n",
      "            - vLH(t)\n",
      "            - vRK(t)\n",
      "            - vLK(t)\n",
      "            - vRA(t)\n",
      "            - vLA(t)\n",
      "    t : float\n",
      "        The current time.\n",
      "    r : dictionary; ndarray, shape(7,); function\n",
      "\n",
      "        There are three options for this argument. (1) is more flexible but\n",
      "        (2) and (3) are much more efficient.\n",
      "\n",
      "        (1) A dictionary that maps the specified functions of time to floats,\n",
      "        ndarrays, or functions that produce ndarrays. The keys can be a single\n",
      "        specified symbolic function of time or a tuple of symbols. The total\n",
      "        number of symbols must be equal to 7. If the value is a\n",
      "        function it must be of the form g(x, t), where x is the current state\n",
      "        vector ndarray and t is the current time float and it must return an\n",
      "        ndarray of the correct shape. For example::\n",
      "\n",
      "          r = {a: 1.0,\n",
      "               (d, b) : np.array([1.0, 2.0]),\n",
      "               (e, f) : lambda x, t: np.array(x[0], x[1]),\n",
      "               c: lambda x, t: np.array(x[2])}\n",
      "\n",
      "        (2) A ndarray with the specified values in the correct order and of the\n",
      "        correct shape.\n",
      "\n",
      "        (3) A function that must be of the form g(x, t), where x is the current\n",
      "        state vector and t is the current time and it must return an ndarray of\n",
      "        the correct shape.\n",
      "\n",
      "        The specified inputs are, in order:\n",
      "            - uL(t)\n",
      "            - uRH(t)\n",
      "            - uRK(t)\n",
      "            - uRA(t)\n",
      "            - uLH(t)\n",
      "            - uLK(t)\n",
      "            - uLA(t)\n",
      "    p : dictionary len(23) or ndarray shape(23,)\n",
      "        Either a dictionary that maps the constants symbols to their numerical\n",
      "        values or an array with the constants in the following order:\n",
      "            - L_pelvis\n",
      "            - L_torso\n",
      "            - L_thigh\n",
      "            - L_shank\n",
      "            - L_foot\n",
      "            - W_foot\n",
      "            - c_pelvis\n",
      "            - c_torso\n",
      "            - c_thigh\n",
      "            - c_shank\n",
      "            - c_foot\n",
      "            - cx_foot\n",
      "            - m_pelvis\n",
      "            - m_torso\n",
      "            - m_thigh\n",
      "            - m_shank\n",
      "            - m_foot\n",
      "            - I_pelvis\n",
      "            - I_torso\n",
      "            - I_thigh\n",
      "            - I_shank\n",
      "            - I_foot\n",
      "            - g\n",
      "\n",
      "    Returns\n",
      "    =======\n",
      "    dx : ndarray, shape(20,)\n",
      "        The derivative of the state vector.\n",
      "\n"
     ]
    }
   ],
   "source": [
    "constants = [pelvis_length,\n",
    "             torso_length,\n",
    "             thigh_length,\n",
    "             shank_length,\n",
    "             foot_length,\n",
    "             foot_width,\n",
    "             pelvis_com_length,\n",
    "             torso_com_length,\n",
    "             thigh_com_length,\n",
    "             shank_com_length,\n",
    "             foot_com_length,\n",
    "             foot_com_length_x,\n",
    "             pelvis_mass,\n",
    "             torso_mass,\n",
    "             thigh_mass,\n",
    "             shank_mass,\n",
    "             foot_mass,\n",
    "             pelvis_inertia,\n",
    "             torso_inertia,\n",
    "             thigh_inertia,\n",
    "             shank_inertia,\n",
    "             foot_inertia,\n",
    "             g]\n",
    "\n",
    "\n",
    "coordinates = [qPx,qPy,qPz,qL,qRH,qLH,qRK,qLK,qRA,qLA]\n",
    "speeds = [vPx,vPy,vPz,vL,vRH,vLH,vRK,vLK,vRA,vLA]\n",
    "specified = [uL, uRH, uRK, uRA, uLH, uLK, uLA]\n",
    "\n",
    "\n",
    "right_hand_side = generate_ode_function(forcing_vector,\n",
    "                                        coordinates,speeds,\n",
    "                                        constants,\n",
    "                                        mass_matrix = mass_matrix,\n",
    "                                        specifieds = specified,\n",
    "                                        generator = 'cython')\n",
    "\n",
    "help(right_hand_side)\n"
   ]
  },
  {
   "cell_type": "markdown",
   "metadata": {},
   "source": [
    "**Function Inputs:** Define the inputs the the function"
   ]
  },
  {
   "cell_type": "code",
   "execution_count": 244,
   "metadata": {},
   "outputs": [],
   "source": [
    "#Initial Conditions\n",
    "x0 = np.zeros(20)\n",
    "\n",
    "#Constants\n",
    "numerical_constants = np.array([0.1, #Pevlis length [m]\n",
    "                                1.0, #torso length [m]\n",
    "                                0.6, #thigh length [m]\n",
    "                                0.5, #shank length [m]\n",
    "                                0.1, #foot length\n",
    "                                0.3, #Foot width\n",
    "                                0.05, #Pelvis com length [m]\n",
    "                                0.5, #torso com length [m]\n",
    "                                0.3, #thigh com length \n",
    "                                0.25, #shank com length \n",
    "                                0.05, #foot com length\n",
    "                                0.15, #foot com length x\n",
    "                                10.0, #pelvis mass\n",
    "                                30.0, #torso mass \n",
    "                                15.0, #Thigh mass\n",
    "                                10.0, #shank mass\n",
    "                                5.0, #foot mass\n",
    "                                3.0, #Pelvis inertia\n",
    "                                8.0, #torso inertia\n",
    "                                2.0, #thigh inertia\n",
    "                                1.0, #shank inertia\n",
    "                                0.5,\n",
    "                                9.81]) #Foot inertia\n",
    "\n",
    "numerical_specified = np.zeros(7)\n",
    "\n",
    "args = {'constants': numerical_constants,\n",
    "        'specified': numerical_specified}\n",
    "\n",
    "\n",
    "frame_per_sec = 60.0\n",
    "final_time = 10.0\n",
    "\n",
    "t = np.linspace(0.0,final_time,int(final_time*frame_per_sec))"
   ]
  },
  {
   "cell_type": "markdown",
   "metadata": {},
   "source": [
    "**Integration:** Integrate the ODE"
   ]
  },
  {
   "cell_type": "code",
   "execution_count": 245,
   "metadata": {},
   "outputs": [
    {
     "ename": "LinAlgError",
     "evalue": "Singular matrix",
     "output_type": "error",
     "traceback": [
      "\u001b[1;31m---------------------------------------------------------------------------\u001b[0m",
      "\u001b[1;31mLinAlgError\u001b[0m                               Traceback (most recent call last)",
      "Cell \u001b[1;32mIn[245], line 1\u001b[0m\n\u001b[1;32m----> 1\u001b[0m y \u001b[38;5;241m=\u001b[39m \u001b[43modeint\u001b[49m\u001b[43m(\u001b[49m\u001b[43mright_hand_side\u001b[49m\u001b[43m,\u001b[49m\u001b[43mx0\u001b[49m\u001b[43m,\u001b[49m\u001b[43mt\u001b[49m\u001b[43m,\u001b[49m\u001b[43margs\u001b[49m\u001b[38;5;241;43m=\u001b[39;49m\u001b[43m(\u001b[49m\u001b[43mnumerical_specified\u001b[49m\u001b[43m,\u001b[49m\u001b[43mnumerical_constants\u001b[49m\u001b[43m)\u001b[49m\u001b[43m)\u001b[49m\n",
      "File \u001b[1;32mc:\\Users\\anbes\\anaconda3\\envs\\ReactiveBalanceSim\\Lib\\site-packages\\scipy\\integrate\\_odepack_py.py:254\u001b[0m, in \u001b[0;36modeint\u001b[1;34m(func, y0, t, args, Dfun, col_deriv, full_output, ml, mu, rtol, atol, tcrit, h0, hmax, hmin, ixpr, mxstep, mxhnil, mxordn, mxords, printmessg, tfirst)\u001b[0m\n\u001b[0;32m    251\u001b[0m y0 \u001b[38;5;241m=\u001b[39m copy(y0)\n\u001b[0;32m    253\u001b[0m \u001b[38;5;28;01mwith\u001b[39;00m ODE_LOCK:\n\u001b[1;32m--> 254\u001b[0m     output \u001b[38;5;241m=\u001b[39m \u001b[43m_odepack\u001b[49m\u001b[38;5;241;43m.\u001b[39;49m\u001b[43modeint\u001b[49m\u001b[43m(\u001b[49m\u001b[43mfunc\u001b[49m\u001b[43m,\u001b[49m\u001b[43m \u001b[49m\u001b[43my0\u001b[49m\u001b[43m,\u001b[49m\u001b[43m \u001b[49m\u001b[43mt\u001b[49m\u001b[43m,\u001b[49m\u001b[43m \u001b[49m\u001b[43margs\u001b[49m\u001b[43m,\u001b[49m\u001b[43m \u001b[49m\u001b[43mDfun\u001b[49m\u001b[43m,\u001b[49m\u001b[43m \u001b[49m\u001b[43mcol_deriv\u001b[49m\u001b[43m,\u001b[49m\u001b[43m \u001b[49m\u001b[43mml\u001b[49m\u001b[43m,\u001b[49m\u001b[43m \u001b[49m\u001b[43mmu\u001b[49m\u001b[43m,\u001b[49m\n\u001b[0;32m    255\u001b[0m \u001b[43m                            \u001b[49m\u001b[43mfull_output\u001b[49m\u001b[43m,\u001b[49m\u001b[43m \u001b[49m\u001b[43mrtol\u001b[49m\u001b[43m,\u001b[49m\u001b[43m \u001b[49m\u001b[43matol\u001b[49m\u001b[43m,\u001b[49m\u001b[43m \u001b[49m\u001b[43mtcrit\u001b[49m\u001b[43m,\u001b[49m\u001b[43m \u001b[49m\u001b[43mh0\u001b[49m\u001b[43m,\u001b[49m\u001b[43m \u001b[49m\u001b[43mhmax\u001b[49m\u001b[43m,\u001b[49m\u001b[43m \u001b[49m\u001b[43mhmin\u001b[49m\u001b[43m,\u001b[49m\n\u001b[0;32m    256\u001b[0m \u001b[43m                            \u001b[49m\u001b[43mixpr\u001b[49m\u001b[43m,\u001b[49m\u001b[43m \u001b[49m\u001b[43mmxstep\u001b[49m\u001b[43m,\u001b[49m\u001b[43m \u001b[49m\u001b[43mmxhnil\u001b[49m\u001b[43m,\u001b[49m\u001b[43m \u001b[49m\u001b[43mmxordn\u001b[49m\u001b[43m,\u001b[49m\u001b[43m \u001b[49m\u001b[43mmxords\u001b[49m\u001b[43m,\u001b[49m\n\u001b[0;32m    257\u001b[0m \u001b[43m                            \u001b[49m\u001b[38;5;28;43mint\u001b[39;49m\u001b[43m(\u001b[49m\u001b[38;5;28;43mbool\u001b[39;49m\u001b[43m(\u001b[49m\u001b[43mtfirst\u001b[49m\u001b[43m)\u001b[49m\u001b[43m)\u001b[49m\u001b[43m)\u001b[49m\n\u001b[0;32m    258\u001b[0m \u001b[38;5;28;01mif\u001b[39;00m output[\u001b[38;5;241m-\u001b[39m\u001b[38;5;241m1\u001b[39m] \u001b[38;5;241m<\u001b[39m \u001b[38;5;241m0\u001b[39m:\n\u001b[0;32m    259\u001b[0m     warning_msg \u001b[38;5;241m=\u001b[39m (\u001b[38;5;124mf\u001b[39m\u001b[38;5;124m\"\u001b[39m\u001b[38;5;132;01m{\u001b[39;00m_msgs[output[\u001b[38;5;241m-\u001b[39m\u001b[38;5;241m1\u001b[39m]]\u001b[38;5;132;01m}\u001b[39;00m\u001b[38;5;124m Run with full_output = 1 to \u001b[39m\u001b[38;5;124m\"\u001b[39m\n\u001b[0;32m    260\u001b[0m                    \u001b[38;5;124mf\u001b[39m\u001b[38;5;124m\"\u001b[39m\u001b[38;5;124mget quantitative information.\u001b[39m\u001b[38;5;124m\"\u001b[39m)\n",
      "File \u001b[1;32mc:\\Users\\anbes\\anaconda3\\envs\\ReactiveBalanceSim\\Lib\\site-packages\\pydy\\codegen\\ode_function_generators.py:491\u001b[0m, in \u001b[0;36mODEFunctionGenerator._create_rhs_function.<locals>.rhs\u001b[1;34m(*args)\u001b[0m\n\u001b[0;32m    488\u001b[0m u \u001b[38;5;241m=\u001b[39m args[\u001b[38;5;241m0\u001b[39m][\u001b[38;5;28mself\u001b[39m\u001b[38;5;241m.\u001b[39mnum_coordinates:]\n\u001b[0;32m    490\u001b[0m \u001b[38;5;28;01mif\u001b[39;00m \u001b[38;5;28mself\u001b[39m\u001b[38;5;241m.\u001b[39mconstants:\n\u001b[1;32m--> 491\u001b[0m     xdot \u001b[38;5;241m=\u001b[39m \u001b[38;5;28;43mself\u001b[39;49m\u001b[38;5;241;43m.\u001b[39;49m\u001b[43m_base_rhs\u001b[49m\u001b[43m(\u001b[49m\u001b[43mq\u001b[49m\u001b[43m,\u001b[49m\u001b[43m \u001b[49m\u001b[43mu\u001b[49m\u001b[43m,\u001b[49m\u001b[43m \u001b[49m\u001b[38;5;241;43m*\u001b[39;49m\u001b[43margs\u001b[49m\u001b[43m[\u001b[49m\u001b[38;5;241;43m2\u001b[39;49m\u001b[43m:\u001b[49m\u001b[43m]\u001b[49m\u001b[43m)\u001b[49m\n\u001b[0;32m    492\u001b[0m \u001b[38;5;28;01melse\u001b[39;00m:\n\u001b[0;32m    493\u001b[0m     xdot \u001b[38;5;241m=\u001b[39m \u001b[38;5;28mself\u001b[39m\u001b[38;5;241m.\u001b[39m_base_rhs(q, u, \u001b[38;5;241m*\u001b[39m(args[\u001b[38;5;241m2\u001b[39m:\u001b[38;5;241m3\u001b[39m] \u001b[38;5;241m+\u001b[39m ([],)))\n",
      "File \u001b[1;32mc:\\Users\\anbes\\anaconda3\\envs\\ReactiveBalanceSim\\Lib\\site-packages\\pydy\\codegen\\ode_function_generators.py:564\u001b[0m, in \u001b[0;36mODEFunctionGenerator._create_base_rhs_function.<locals>.base_rhs\u001b[1;34m(*args)\u001b[0m\n\u001b[0;32m    561\u001b[0m \u001b[38;5;28;01mdef\u001b[39;00m\u001b[38;5;250m \u001b[39m\u001b[38;5;21mbase_rhs\u001b[39m(\u001b[38;5;241m*\u001b[39margs):\n\u001b[0;32m    563\u001b[0m     M, F \u001b[38;5;241m=\u001b[39m \u001b[38;5;28mself\u001b[39m\u001b[38;5;241m.\u001b[39meval_arrays(\u001b[38;5;241m*\u001b[39margs)\n\u001b[1;32m--> 564\u001b[0m     \u001b[38;5;28;01mreturn\u001b[39;00m \u001b[38;5;28;43mself\u001b[39;49m\u001b[38;5;241;43m.\u001b[39;49m\u001b[43m_solve_linear_system\u001b[49m\u001b[43m(\u001b[49m\u001b[43mM\u001b[49m\u001b[43m,\u001b[49m\u001b[43m \u001b[49m\u001b[43mF\u001b[49m\u001b[43m)\u001b[49m\n",
      "File \u001b[1;32mc:\\Users\\anbes\\anaconda3\\envs\\ReactiveBalanceSim\\Lib\\site-packages\\numpy\\linalg\\_linalg.py:410\u001b[0m, in \u001b[0;36msolve\u001b[1;34m(a, b)\u001b[0m\n\u001b[0;32m    407\u001b[0m signature \u001b[38;5;241m=\u001b[39m \u001b[38;5;124m'\u001b[39m\u001b[38;5;124mDD->D\u001b[39m\u001b[38;5;124m'\u001b[39m \u001b[38;5;28;01mif\u001b[39;00m isComplexType(t) \u001b[38;5;28;01melse\u001b[39;00m \u001b[38;5;124m'\u001b[39m\u001b[38;5;124mdd->d\u001b[39m\u001b[38;5;124m'\u001b[39m\n\u001b[0;32m    408\u001b[0m \u001b[38;5;28;01mwith\u001b[39;00m errstate(call\u001b[38;5;241m=\u001b[39m_raise_linalgerror_singular, invalid\u001b[38;5;241m=\u001b[39m\u001b[38;5;124m'\u001b[39m\u001b[38;5;124mcall\u001b[39m\u001b[38;5;124m'\u001b[39m,\n\u001b[0;32m    409\u001b[0m               over\u001b[38;5;241m=\u001b[39m\u001b[38;5;124m'\u001b[39m\u001b[38;5;124mignore\u001b[39m\u001b[38;5;124m'\u001b[39m, divide\u001b[38;5;241m=\u001b[39m\u001b[38;5;124m'\u001b[39m\u001b[38;5;124mignore\u001b[39m\u001b[38;5;124m'\u001b[39m, under\u001b[38;5;241m=\u001b[39m\u001b[38;5;124m'\u001b[39m\u001b[38;5;124mignore\u001b[39m\u001b[38;5;124m'\u001b[39m):\n\u001b[1;32m--> 410\u001b[0m     r \u001b[38;5;241m=\u001b[39m \u001b[43mgufunc\u001b[49m\u001b[43m(\u001b[49m\u001b[43ma\u001b[49m\u001b[43m,\u001b[49m\u001b[43m \u001b[49m\u001b[43mb\u001b[49m\u001b[43m,\u001b[49m\u001b[43m \u001b[49m\u001b[43msignature\u001b[49m\u001b[38;5;241;43m=\u001b[39;49m\u001b[43msignature\u001b[49m\u001b[43m)\u001b[49m\n\u001b[0;32m    412\u001b[0m \u001b[38;5;28;01mreturn\u001b[39;00m wrap(r\u001b[38;5;241m.\u001b[39mastype(result_t, copy\u001b[38;5;241m=\u001b[39m\u001b[38;5;28;01mFalse\u001b[39;00m))\n",
      "File \u001b[1;32mc:\\Users\\anbes\\anaconda3\\envs\\ReactiveBalanceSim\\Lib\\site-packages\\numpy\\linalg\\_linalg.py:104\u001b[0m, in \u001b[0;36m_raise_linalgerror_singular\u001b[1;34m(err, flag)\u001b[0m\n\u001b[0;32m    103\u001b[0m \u001b[38;5;28;01mdef\u001b[39;00m\u001b[38;5;250m \u001b[39m\u001b[38;5;21m_raise_linalgerror_singular\u001b[39m(err, flag):\n\u001b[1;32m--> 104\u001b[0m     \u001b[38;5;28;01mraise\u001b[39;00m LinAlgError(\u001b[38;5;124m\"\u001b[39m\u001b[38;5;124mSingular matrix\u001b[39m\u001b[38;5;124m\"\u001b[39m)\n",
      "\u001b[1;31mLinAlgError\u001b[0m: Singular matrix"
     ]
    }
   ],
   "source": [
    "y = odeint(right_hand_side,x0,t,args=(numerical_specified,numerical_constants))"
   ]
  }
 ],
 "metadata": {
  "kernelspec": {
   "display_name": "ReactiveBalanceSim",
   "language": "python",
   "name": "python3"
  },
  "language_info": {
   "codemirror_mode": {
    "name": "ipython",
    "version": 3
   },
   "file_extension": ".py",
   "mimetype": "text/x-python",
   "name": "python",
   "nbconvert_exporter": "python",
   "pygments_lexer": "ipython3",
   "version": "3.13.2"
  }
 },
 "nbformat": 4,
 "nbformat_minor": 2
}
