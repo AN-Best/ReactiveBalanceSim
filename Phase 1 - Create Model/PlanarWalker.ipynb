{
 "cells": [
  {
   "cell_type": "code",
   "execution_count": 124,
   "metadata": {},
   "outputs": [],
   "source": [
    "import numpy as np\n",
    "import sympy as sm\n",
    "import sympy.physics.mechanics as me\n",
    "from sympy.physics.vector import init_vprinting, vlatex"
   ]
  },
  {
   "cell_type": "markdown",
   "metadata": {},
   "source": [
    "# Kinematics"
   ]
  },
  {
   "cell_type": "markdown",
   "metadata": {},
   "source": [
    "**Reference Frames:** Declare global and body fixed reference frames"
   ]
  },
  {
   "cell_type": "code",
   "execution_count": 125,
   "metadata": {},
   "outputs": [],
   "source": [
    "world_frame = me.ReferenceFrame('W')\n",
    "pelvis_frame = me.ReferenceFrame('P')\n",
    "torso_frame = me.ReferenceFrame('T')\n",
    "right_thigh_frame = me.ReferenceFrame('RT')\n",
    "left_thigh_frame = me.ReferenceFrame('LT')\n",
    "right_shank_frame = me.ReferenceFrame('RS')\n",
    "left_shank_frame = me.ReferenceFrame('LS')\n",
    "right_foot_frame = me.ReferenceFrame('RF')\n",
    "left_foot_frame = me.ReferenceFrame('LF')"
   ]
  },
  {
   "cell_type": "markdown",
   "metadata": {},
   "source": [
    "**Coordinates:** Declare coordinates for every degree of freedom"
   ]
  },
  {
   "cell_type": "code",
   "execution_count": 126,
   "metadata": {},
   "outputs": [],
   "source": [
    "qPx,qPy,qPz,qL,qRH,qLH,qRK,qLK,qRA,qLA = me.dynamicsymbols('qPx qPy qPz qL qRH qLH qRK qLK qRA qLA')"
   ]
  },
  {
   "cell_type": "markdown",
   "metadata": {},
   "source": [
    "**Orient Frames:** Orient each of the frame using the declared coordinates"
   ]
  },
  {
   "cell_type": "code",
   "execution_count": 127,
   "metadata": {},
   "outputs": [],
   "source": [
    "pelvis_frame.orient(world_frame,'Axis',(qPz,world_frame.z))\n",
    "torso_frame.orient(pelvis_frame,'Axis',(qL,pelvis_frame.z))\n",
    "right_thigh_frame.orient(pelvis_frame,'Axis',(qRH,pelvis_frame.z))\n",
    "left_thigh_frame.orient(pelvis_frame,'Axis',(qLH,pelvis_frame.z))\n",
    "right_shank_frame.orient(right_thigh_frame,'Axis',(qRK,right_thigh_frame.z))\n",
    "left_shank_frame.orient(left_thigh_frame,'Axis',(qLK,left_thigh_frame.z))\n",
    "right_foot_frame.orient(right_shank_frame,'Axis',(qRA,right_shank_frame.z))\n",
    "left_foot_frame.orient(left_shank_frame,'Axis',(qLA,left_shank_frame.z))"
   ]
  },
  {
   "cell_type": "markdown",
   "metadata": {},
   "source": [
    "**Joints:** Set the position of each joint "
   ]
  },
  {
   "cell_type": "code",
   "execution_count": 128,
   "metadata": {},
   "outputs": [],
   "source": [
    "#Declare the necessary length of each segment\n",
    "pelvis_length, torso_length, thigh_length, shank_length, foot_length = sm.symbols('L_pelvis L_torso L_thigh L_shank L_foot')\n",
    "#Declare the width of the foot\n",
    "foot_width = sm.symbols('W_foot')\n",
    "#Height of the CoM - relative to the bottom end of the segment\n",
    "pelvis_com_length, torso_com_length, thigh_com_length, shank_com_length, foot_com_length = sm.symbols('c_pelvis c_torso c_thigh c_shank c_foot')\n",
    "#Forward position of the foot CoM\n",
    "foot_com_length_x = sm.symbols('cx_foot')\n",
    "\n",
    "#Origin\n",
    "O = me.Point('O')\n",
    "#Root - i.e. center of mass of the pelvis\n",
    "root = me.Point('root')\n",
    "root.set_pos(O,qPx*world_frame.x + qPy*world_frame.y)\n",
    "#Lumbar joint\n",
    "lumbar = me.Point('L')\n",
    "lumbar.set_pos(root,(pelvis_length-pelvis_com_length)*pelvis_frame.y)\n",
    "#Right hip\n",
    "right_hip = me.Point('RH')\n",
    "right_hip.set_pos(root,-pelvis_com_length*pelvis_frame.y)\n",
    "#Left hip\n",
    "left_hip = me.Point('LH')\n",
    "left_hip.set_pos(root,-pelvis_com_length*pelvis_frame.y)\n",
    "#Right Knee\n",
    "right_knee = me.Point('RK')\n",
    "right_knee.set_pos(right_hip,-thigh_length*right_thigh_frame.y)\n",
    "#Left Knee \n",
    "left_knee = me.Point('LK')\n",
    "left_knee.set_pos(left_hip,-thigh_length*left_thigh_frame.y)\n",
    "#Right Ankle\n",
    "right_ankle = me.Point('RA')\n",
    "right_ankle.set_pos(right_knee,-shank_length*right_shank_frame.y)\n",
    "#Left Ankle\n",
    "left_ankle = me.Point('LA')\n",
    "left_ankle.set_pos(left_knee,-shank_length*left_shank_frame.y)"
   ]
  },
  {
   "cell_type": "markdown",
   "metadata": {},
   "source": [
    "**Center of Mass:** Set the position of the center of mass of each segment"
   ]
  },
  {
   "cell_type": "code",
   "execution_count": 129,
   "metadata": {},
   "outputs": [],
   "source": [
    "#Pelvis\n",
    "pelvis_mass_center = me.Point('P_CoM')\n",
    "pelvis_mass_center.set_pos(root,0)\n",
    "#Torso\n",
    "torso_mass_center = me.Point('T_CoM')\n",
    "torso_mass_center.set_pos(lumbar,torso_com_length*torso_frame.y)\n",
    "#Right Thigh\n",
    "right_thigh_mass_center = me.Point('RT_CoM')\n",
    "right_thigh_mass_center.set_pos(right_hip,-1*(thigh_length-thigh_com_length)*right_thigh_frame.y)\n",
    "#Left Thigh\n",
    "left_thigh_mass_center = me.Point('LT_CoM')\n",
    "left_thigh_mass_center.set_pos(left_hip,-1*(thigh_length-thigh_com_length)*left_thigh_frame.y)\n",
    "#Right Shank\n",
    "right_shank_mass_center = me.Point('RS_CoM')\n",
    "right_shank_mass_center.set_pos(right_knee,-1*(shank_length-shank_com_length)*right_shank_frame.y)\n",
    "#Left Shank\n",
    "left_shank_mass_center = me.Point('LS_CoM')\n",
    "left_shank_mass_center.set_pos(left_knee,-1*(shank_length-shank_com_length)*left_shank_frame.y)\n",
    "#Right Foot\n",
    "right_foot_mass_center = me.Point('RF_CoM')\n",
    "right_foot_mass_center.set_pos(right_ankle,-1*(foot_length - foot_com_length)*right_foot_frame.y + foot_com_length_x*right_foot_frame.x)\n",
    "#Left Foot\n",
    "left_foot_mass_center = me.Point('LF_CoM')\n",
    "left_foot_mass_center.set_pos(left_ankle,-1*(foot_length-foot_com_length)*left_foot_frame.y + foot_com_length_x*left_foot_frame.x)"
   ]
  },
  {
   "cell_type": "markdown",
   "metadata": {},
   "source": [
    "**Kinematic Differential Equations:** Declare generalized speeds and relate them to each of the generalized coordinates to determine the kinematical differential equations"
   ]
  },
  {
   "cell_type": "code",
   "execution_count": 130,
   "metadata": {},
   "outputs": [],
   "source": [
    "vPx,vPy,vPz,vL,vRH,vLH,vRK,vLK,vRA,vLA = me.dynamicsymbols('vPx vPy vPz vL vRH vLH vRK vLK vRA vLA')\n",
    "\n",
    "kinematical_differential_equations = [vPx - qPx.diff(),\n",
    "                                      vPy - qPy.diff(),\n",
    "                                      vPz - qPz.diff(),\n",
    "                                      vL - qL.diff(),\n",
    "                                      vRH - qRH.diff(),\n",
    "                                      vLH - qLH.diff(),\n",
    "                                      vLK - qLK.diff(),\n",
    "                                      vRA - qRA.diff(),\n",
    "                                      vLA - qLA.diff()]"
   ]
  },
  {
   "cell_type": "markdown",
   "metadata": {},
   "source": [
    "**Angular Velocities:** Use the generalized speeds to define the angular velocity of each frame"
   ]
  },
  {
   "cell_type": "code",
   "execution_count": 131,
   "metadata": {},
   "outputs": [],
   "source": [
    "#Pelvis\n",
    "pelvis_frame.set_ang_vel(world_frame,vPz*world_frame.z)\n",
    "#Torso\n",
    "torso_frame.set_ang_vel(pelvis_frame,vL*pelvis_frame.z)\n",
    "#Right Thigh\n",
    "right_thigh_frame.set_ang_vel(pelvis_frame,vRH*pelvis_frame.z)\n",
    "#Left Thigh\n",
    "left_thigh_frame.set_ang_vel(pelvis_frame,vLH*pelvis_frame.z)\n",
    "#Right Shank\n",
    "right_shank_frame.set_ang_vel(right_thigh_frame,vRK*right_thigh_frame.z)\n",
    "#Left Shank\n",
    "left_shank_frame.set_ang_vel(left_thigh_frame,vLK*left_shank_frame.z)\n",
    "#Right Foot\n",
    "right_foot_frame.set_ang_vel(right_shank_frame,vRA*right_shank_frame.z)\n",
    "#Left Foot\n",
    "left_foot_frame.set_ang_vel(left_shank_frame,vLA*left_shank_frame.z)"
   ]
  },
  {
   "cell_type": "markdown",
   "metadata": {},
   "source": [
    "**Linear Velocities:** Define the linear velocity of each CoM   "
   ]
  },
  {
   "cell_type": "code",
   "execution_count": 132,
   "metadata": {},
   "outputs": [
    {
     "data": {
      "text/latex": [
       "$\\displaystyle \\operatorname{vPx}{\\left(t \\right)}\\mathbf{\\hat{w}_x} + \\operatorname{vPy}{\\left(t \\right)}\\mathbf{\\hat{w}_y} + c_{pelvis} \\operatorname{vPz}{\\left(t \\right)}\\mathbf{\\hat{p}_x} + L_{thigh} \\left(\\operatorname{vLH}{\\left(t \\right)} + \\operatorname{vPz}{\\left(t \\right)}\\right)\\mathbf{\\hat{lt}_x} + L_{shank} \\left(\\operatorname{vLH}{\\left(t \\right)} + \\operatorname{vLK}{\\left(t \\right)} + \\operatorname{vPz}{\\left(t \\right)}\\right)\\mathbf{\\hat{ls}_x} -  \\left(- L_{foot} + c_{foot}\\right) \\left(\\operatorname{vLA}{\\left(t \\right)} + \\operatorname{vLH}{\\left(t \\right)} + \\operatorname{vLK}{\\left(t \\right)} + \\operatorname{vPz}{\\left(t \\right)}\\right)\\mathbf{\\hat{lf}_x} + cx_{foot} \\left(\\operatorname{vLA}{\\left(t \\right)} + \\operatorname{vLH}{\\left(t \\right)} + \\operatorname{vLK}{\\left(t \\right)} + \\operatorname{vPz}{\\left(t \\right)}\\right)\\mathbf{\\hat{lf}_y}$"
      ],
      "text/plain": [
       "vPx(t)*W.x + vPy(t)*W.y + c_pelvis*vPz(t)*P.x + L_thigh*(vLH(t) + vPz(t))*LT.x + L_shank*(vLH(t) + vLK(t) + vPz(t))*LS.x - (-L_foot + c_foot)*(vLA(t) + vLH(t) + vLK(t) + vPz(t))*LF.x + cx_foot*(vLA(t) + vLH(t) + vLK(t) + vPz(t))*LF.y"
      ]
     },
     "execution_count": 132,
     "metadata": {},
     "output_type": "execute_result"
    }
   ],
   "source": [
    "O.set_vel(world_frame,0)\n",
    "\n",
    "#Pelvis\n",
    "root.set_vel(world_frame,vPx*world_frame.x + vPy*world_frame.y)\n",
    "pelvis_mass_center.set_vel(world_frame,vPx*world_frame.x + vPy*world_frame.y)\n",
    "#Lumbar\n",
    "lumbar.v2pt_theory(root,world_frame,pelvis_frame)\n",
    "#Torso\n",
    "torso_mass_center.v2pt_theory(lumbar,world_frame,torso_frame)\n",
    "#Right Hip\n",
    "right_hip.v2pt_theory(root,world_frame,pelvis_frame)\n",
    "#Left Hip\n",
    "left_hip.v2pt_theory(root,world_frame,pelvis_frame)\n",
    "#Right thigh\n",
    "right_thigh_mass_center.v2pt_theory(right_hip,world_frame,right_thigh_frame)\n",
    "#Left thigh\n",
    "left_thigh_mass_center.v2pt_theory(left_hip,world_frame,left_thigh_frame)\n",
    "#Right Knee\n",
    "right_knee.v2pt_theory(right_hip,world_frame,right_thigh_frame)\n",
    "#Left Knee\n",
    "left_knee.v2pt_theory(left_hip,world_frame,left_thigh_frame)\n",
    "#Right Shank\n",
    "right_shank_mass_center.v2pt_theory(right_knee,world_frame,right_shank_frame)\n",
    "#Left Shank\n",
    "left_shank_mass_center.v2pt_theory(left_knee,world_frame,left_shank_frame)\n",
    "#Right Ankle\n",
    "right_ankle.v2pt_theory(right_knee,world_frame,right_shank_frame)\n",
    "#Left Ankle\n",
    "left_ankle.v2pt_theory(left_knee,world_frame,left_shank_frame)\n",
    "#Right foot\n",
    "right_foot_mass_center.v2pt_theory(right_ankle,world_frame,right_foot_frame)\n",
    "#Left foot\n",
    "left_foot_mass_center.v2pt_theory(left_ankle,world_frame,left_foot_frame)"
   ]
  },
  {
   "cell_type": "markdown",
   "metadata": {},
   "source": [
    "# Inertia  "
   ]
  },
  {
   "cell_type": "markdown",
   "metadata": {},
   "source": [
    "**Mass:** Define the mass of each segment  "
   ]
  },
  {
   "cell_type": "code",
   "execution_count": 133,
   "metadata": {},
   "outputs": [],
   "source": [
    "pevlis_mass, torso_mass, thigh_mass, shank_mass, foot_mass = sm.symbols('m_pelvis m_torso m_thigh m_shank m_foot')"
   ]
  },
  {
   "cell_type": "markdown",
   "metadata": {},
   "source": [
    "**Moment of Inertia:** Define the inertia tensor of each segment    "
   ]
  },
  {
   "cell_type": "code",
   "execution_count": 134,
   "metadata": {},
   "outputs": [],
   "source": [
    "pelvis_inertia, torso_inertia, thigh_inertia, shank_inertia, foot_inertia = sm.symbols('I_pelvis I_torso I_thigh I_shank I_foot')\n",
    "\n",
    "#Pelvis \n",
    "pelvis_dyadic = me.inertia(pelvis_frame,0,0,pelvis_inertia)\n",
    "pelvis_central_inertia = (pelvis_dyadic,pelvis_mass_center)\n",
    "#Torso\n",
    "torso_dyadic = me.inertia(torso_frame,0,0,torso_inertia)\n",
    "torso_central_inertia = (torso_dyadic,torso_mass_center)\n",
    "#Right Thigh\n",
    "right_thigh_dyadic = me.inertia(right_thigh_frame,0,0,thigh_inertia)\n",
    "right_thigh_central_inertia = (right_thigh_dyadic,right_thigh_mass_center)\n",
    "#Left Thigh\n",
    "left_thigh_dyadic = me.inertia(left_thigh_frame,0,0,thigh_inertia)\n",
    "left_thigh_central_inertia = (left_thigh_dyadic,left_thigh_mass_center)\n",
    "#Right Shank\n",
    "right_shank_dyadic = me.inertia(right_shank_frame,0,0,shank_inertia)\n",
    "right_shank_central_inertia = (right_shank_dyadic,right_shank_mass_center)\n",
    "#Left Shank\n",
    "left_shank_dyadic = me.inertia(left_shank_frame,0,0,shank_inertia)\n",
    "left_shank_central_inertia = (left_shank_dyadic,left_shank_mass_center)\n",
    "#Right Foot\n",
    "right_foot_dyadic = me.inertia(right_foot_frame,0,0,foot_inertia)\n",
    "right_foot_central_inertia = (right_foot_dyadic,right_foot_mass_center)\n",
    "#Left foot\n",
    "left_foot_dyadic = me.inertia(left_foot_frame,0,0,foot_inertia)\n",
    "left_foot_central_inertia = (left_foot_dyadic,left_foot_mass_center)"
   ]
  },
  {
   "cell_type": "markdown",
   "metadata": {},
   "source": [
    "**Rigid Bodies:** Define rigid bodies for each of the segments"
   ]
  },
  {
   "cell_type": "code",
   "execution_count": 135,
   "metadata": {},
   "outputs": [],
   "source": [
    "pelvis = me.RigidBody('Pelvis',pelvis_mass_center,pelvis_frame,\n",
    "                      pevlis_mass,pelvis_central_inertia)\n",
    "\n",
    "torso = me.RigidBody('Torso',torso_mass_center,torso_frame,\n",
    "                     torso_mass,torso_central_inertia)\n",
    "\n",
    "right_thigh = me.RigidBody('Right Thigh',right_thigh_mass_center,right_thigh_frame,\n",
    "                           thigh_mass,right_foot_central_inertia)\n",
    "\n",
    "left_thigh = me.RigidBody('Left Thigh',left_thigh_mass_center,left_thigh_frame,\n",
    "                          thigh_mass,left_thigh_central_inertia)\n",
    "\n",
    "right_shank = me.RigidBody('Right Shank',right_shank_mass_center,right_shank_frame,\n",
    "                           shank_mass,right_shank_central_inertia)\n",
    "\n",
    "left_shank = me.RigidBody('Left Shank',left_foot_mass_center,left_shank_frame,\n",
    "                          shank_mass,left_shank_central_inertia)\n",
    "\n",
    "right_foot = me.RigidBody('Right Foot',right_foot_mass_center,right_foot_frame,\n",
    "                          foot_mass,right_foot_central_inertia)\n",
    "\n",
    "left_foot = me.RigidBody('Left Foot', left_foot_mass_center,left_foot_frame,\n",
    "                         foot_mass,left_foot_central_inertia)"
   ]
  },
  {
   "cell_type": "markdown",
   "metadata": {},
   "source": [
    "# Kinetics"
   ]
  },
  {
   "cell_type": "markdown",
   "metadata": {},
   "source": [
    "**Gravity:** Define the gravitational force for each segment            "
   ]
  },
  {
   "cell_type": "code",
   "execution_count": null,
   "metadata": {},
   "outputs": [],
   "source": []
  }
 ],
 "metadata": {
  "kernelspec": {
   "display_name": "ReactiveBalanceSim",
   "language": "python",
   "name": "python3"
  },
  "language_info": {
   "codemirror_mode": {
    "name": "ipython",
    "version": 3
   },
   "file_extension": ".py",
   "mimetype": "text/x-python",
   "name": "python",
   "nbconvert_exporter": "python",
   "pygments_lexer": "ipython3",
   "version": "3.13.2"
  }
 },
 "nbformat": 4,
 "nbformat_minor": 2
}
