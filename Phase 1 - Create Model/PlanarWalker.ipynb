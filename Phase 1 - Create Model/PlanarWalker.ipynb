{
 "cells": [
  {
   "cell_type": "code",
   "execution_count": 3,
   "metadata": {},
   "outputs": [],
   "source": [
    "import numpy as np\n",
    "import sympy as sm\n",
    "import sympy.physics.mechanics as me\n",
    "from sympy.physics.vector import init_vprinting, vlatex\n",
    "from pydy.codegen.ode_function_generators import generate_ode_function\n",
    "from scipy.integrate import odeint\n",
    "from pydy.viz.shapes import Cylinder, Sphere\n",
    "import pydy.viz\n",
    "pydy.viz.shapes.__all__\n",
    "from pydy.viz.visualization_frame import VisualizationFrame\n",
    "from pydy.viz.scene import Scene\n",
    "\n",
    "viz_switch = True"
   ]
  },
  {
   "cell_type": "markdown",
   "metadata": {},
   "source": [
    "# Kinematics"
   ]
  },
  {
   "cell_type": "markdown",
   "metadata": {},
   "source": [
    "**Reference Frames:** Declare global and body fixed reference frames"
   ]
  },
  {
   "cell_type": "code",
   "execution_count": 4,
   "metadata": {},
   "outputs": [],
   "source": [
    "world_frame = me.ReferenceFrame('W')\n",
    "pelvis_frame = me.ReferenceFrame('P')\n",
    "torso_frame = me.ReferenceFrame('T')\n",
    "right_thigh_frame = me.ReferenceFrame('RT')\n",
    "left_thigh_frame = me.ReferenceFrame('LT')\n",
    "right_shank_frame = me.ReferenceFrame('RS')\n",
    "left_shank_frame = me.ReferenceFrame('LS')\n",
    "right_foot_frame = me.ReferenceFrame('RF')\n",
    "left_foot_frame = me.ReferenceFrame('LF')"
   ]
  },
  {
   "cell_type": "markdown",
   "metadata": {},
   "source": [
    "**Coordinates:** Declare coordinates for every degree of freedom"
   ]
  },
  {
   "cell_type": "code",
   "execution_count": 5,
   "metadata": {},
   "outputs": [],
   "source": [
    "qPx,qPy,qPz,qL,qRH,qLH,qRK,qLK,qRA,qLA = me.dynamicsymbols('qPx qPy qPz qL qRH qLH qRK qLK qRA qLA')"
   ]
  },
  {
   "cell_type": "markdown",
   "metadata": {},
   "source": [
    "**Orient Frames:** Orient each of the frame using the declared coordinates"
   ]
  },
  {
   "cell_type": "code",
   "execution_count": 6,
   "metadata": {},
   "outputs": [],
   "source": [
    "pelvis_frame.orient(world_frame,'Axis',(qPz,world_frame.z))\n",
    "torso_frame.orient(pelvis_frame,'Axis',(qL,pelvis_frame.z))\n",
    "right_thigh_frame.orient(pelvis_frame,'Axis',(qRH,pelvis_frame.z))\n",
    "left_thigh_frame.orient(pelvis_frame,'Axis',(qLH,pelvis_frame.z))\n",
    "right_shank_frame.orient(right_thigh_frame,'Axis',(qRK,right_thigh_frame.z))\n",
    "left_shank_frame.orient(left_thigh_frame,'Axis',(qLK,left_thigh_frame.z))\n",
    "right_foot_frame.orient(right_shank_frame,'Axis',(qRA,right_shank_frame.z))\n",
    "left_foot_frame.orient(left_shank_frame,'Axis',(qLA,left_shank_frame.z))"
   ]
  },
  {
   "cell_type": "markdown",
   "metadata": {},
   "source": [
    "**Joints:** Set the position of each joint "
   ]
  },
  {
   "cell_type": "code",
   "execution_count": 7,
   "metadata": {},
   "outputs": [],
   "source": [
    "#Declare the necessary length of each segment\n",
    "pelvis_length, torso_length, thigh_length, shank_length, foot_length = sm.symbols('L_pelvis L_torso L_thigh L_shank L_foot')\n",
    "#Declare the width of the foot\n",
    "foot_width = sm.symbols('W_foot')\n",
    "#Height of the CoM - relative to the bottom end of the segment\n",
    "pelvis_com_length, torso_com_length, thigh_com_length, shank_com_length, foot_com_length = sm.symbols('c_pelvis c_torso c_thigh c_shank c_foot')\n",
    "#Forward position of the foot CoM\n",
    "foot_com_length_x = sm.symbols('cx_foot')\n",
    "\n",
    "#Origin\n",
    "O = me.Point('O')\n",
    "#Root - i.e. center of mass of the pelvis\n",
    "root = me.Point('root')\n",
    "root.set_pos(O,qPx*world_frame.x + qPy*world_frame.y)\n",
    "#Lumbar joint\n",
    "lumbar = me.Point('L')\n",
    "lumbar.set_pos(root,(pelvis_length-pelvis_com_length)*pelvis_frame.y)\n",
    "#Right hip\n",
    "right_hip = me.Point('RH')\n",
    "right_hip.set_pos(root,-pelvis_com_length*pelvis_frame.y)\n",
    "#Left hip\n",
    "left_hip = me.Point('LH')\n",
    "left_hip.set_pos(root,-pelvis_com_length*pelvis_frame.y)\n",
    "#Right Knee\n",
    "right_knee = me.Point('RK')\n",
    "right_knee.set_pos(right_hip,-thigh_length*right_thigh_frame.y)\n",
    "#Left Knee \n",
    "left_knee = me.Point('LK')\n",
    "left_knee.set_pos(left_hip,-thigh_length*left_thigh_frame.y)\n",
    "#Right Ankle\n",
    "right_ankle = me.Point('RA')\n",
    "right_ankle.set_pos(right_knee,-shank_length*right_shank_frame.y)\n",
    "#Left Ankle\n",
    "left_ankle = me.Point('LA')\n",
    "left_ankle.set_pos(left_knee,-shank_length*left_shank_frame.y)"
   ]
  },
  {
   "cell_type": "markdown",
   "metadata": {},
   "source": [
    "**Center of Mass:** Set the position of the center of mass of each segment"
   ]
  },
  {
   "cell_type": "code",
   "execution_count": 8,
   "metadata": {},
   "outputs": [],
   "source": [
    "#Pelvis\n",
    "pelvis_mass_center = me.Point('P_CoM')\n",
    "pelvis_mass_center.set_pos(root,0)\n",
    "#Torso\n",
    "torso_mass_center = me.Point('T_CoM')\n",
    "torso_mass_center.set_pos(lumbar,torso_com_length*torso_frame.y)\n",
    "#Right Thigh\n",
    "right_thigh_mass_center = me.Point('RT_CoM')\n",
    "right_thigh_mass_center.set_pos(right_hip,-1*(thigh_length-thigh_com_length)*right_thigh_frame.y)\n",
    "#Left Thigh\n",
    "left_thigh_mass_center = me.Point('LT_CoM')\n",
    "left_thigh_mass_center.set_pos(left_hip,-1*(thigh_length-thigh_com_length)*left_thigh_frame.y)\n",
    "#Right Shank\n",
    "right_shank_mass_center = me.Point('RS_CoM')\n",
    "right_shank_mass_center.set_pos(right_knee,-1*(shank_length-shank_com_length)*right_shank_frame.y)\n",
    "#Left Shank\n",
    "left_shank_mass_center = me.Point('LS_CoM')\n",
    "left_shank_mass_center.set_pos(left_knee,-1*(shank_length-shank_com_length)*left_shank_frame.y)\n",
    "#Right Foot\n",
    "right_foot_mass_center = me.Point('RF_CoM')\n",
    "right_foot_mass_center.set_pos(right_ankle,-1*(foot_length - foot_com_length)*right_foot_frame.y + foot_com_length_x*right_foot_frame.x)\n",
    "#Left Foot\n",
    "left_foot_mass_center = me.Point('LF_CoM')\n",
    "left_foot_mass_center.set_pos(left_ankle,-1*(foot_length-foot_com_length)*left_foot_frame.y + foot_com_length_x*left_foot_frame.x)"
   ]
  },
  {
   "cell_type": "markdown",
   "metadata": {},
   "source": [
    "**Ground Reaction Force Sites:** Add points for the contact between the foot and the ground"
   ]
  },
  {
   "cell_type": "code",
   "execution_count": 9,
   "metadata": {},
   "outputs": [],
   "source": [
    "#Right Heel\n",
    "right_heel = me.Point('RH')\n",
    "right_heel.set_pos(right_ankle,-foot_length*right_foot_frame.y)\n",
    "#Right Toe\n",
    "right_toe = me.Point('RT')\n",
    "right_toe.set_pos(right_ankle,-foot_length*right_foot_frame.y + foot_width*right_foot_frame.x)\n",
    "#Left Heel\n",
    "left_heel = me.Point('LH')\n",
    "left_heel.set_pos(left_ankle,-foot_length*left_foot_frame.y)\n",
    "#Right Toe\n",
    "left_toe = me.Point('LT')\n",
    "left_toe.set_pos(left_ankle,-foot_length*left_foot_frame.y + foot_width*left_foot_frame.x)\n"
   ]
  },
  {
   "cell_type": "markdown",
   "metadata": {},
   "source": [
    "**Kinematic Differential Equations:** Declare generalized speeds and relate them to each of the generalized coordinates to determine the kinematical differential equations"
   ]
  },
  {
   "cell_type": "code",
   "execution_count": 10,
   "metadata": {},
   "outputs": [],
   "source": [
    "vPx,vPy,vPz,vL,vRH,vLH,vRK,vLK,vRA,vLA = me.dynamicsymbols('vPx vPy vPz vL vRH vLH vRK vLK vRA vLA')\n",
    "\n",
    "kinematical_differential_equations = [vPx - qPx.diff(),\n",
    "                                      vPy - qPy.diff(),\n",
    "                                      vPz - qPz.diff(),\n",
    "                                      vL - qL.diff(),\n",
    "                                      vRH - qRH.diff(),\n",
    "                                      vLH - qLH.diff(),\n",
    "                                      vRK - qRK.diff(),\n",
    "                                      vLK - qLK.diff(),\n",
    "                                      vRA - qRA.diff(),\n",
    "                                      vLA - qLA.diff()]"
   ]
  },
  {
   "cell_type": "markdown",
   "metadata": {},
   "source": [
    "**Angular Velocities:** Use the generalized speeds to define the angular velocity of each frame"
   ]
  },
  {
   "cell_type": "code",
   "execution_count": 11,
   "metadata": {},
   "outputs": [
    {
     "data": {
      "text/latex": [
       "$\\displaystyle \\operatorname{vLA}{\\left(t \\right)}\\mathbf{\\hat{ls}_z} + \\operatorname{vLK}{\\left(t \\right)}\\mathbf{\\hat{lt}_z} + \\operatorname{vLH}{\\left(t \\right)}\\mathbf{\\hat{p}_z} + \\operatorname{vPz}{\\left(t \\right)}\\mathbf{\\hat{w}_z}$"
      ],
      "text/plain": [
       "vPz(t)*W.z + vLH(t)*P.z + vLK(t)*LT.z + vLA(t)*LS.z"
      ]
     },
     "execution_count": 11,
     "metadata": {},
     "output_type": "execute_result"
    }
   ],
   "source": [
    "#Pelvis\n",
    "pelvis_frame.set_ang_vel(world_frame,vPz*world_frame.z)\n",
    "pelvis_frame.ang_vel_in(world_frame)\n",
    "#Torso\n",
    "torso_frame.set_ang_vel(pelvis_frame,vL*pelvis_frame.z)\n",
    "torso_frame.ang_vel_in(world_frame)\n",
    "#Right Thigh\n",
    "right_thigh_frame.set_ang_vel(pelvis_frame,vRH*pelvis_frame.z)\n",
    "right_thigh_frame.ang_vel_in(world_frame)\n",
    "#Left Thigh\n",
    "left_thigh_frame.set_ang_vel(pelvis_frame,vLH*pelvis_frame.z)\n",
    "left_thigh_frame.ang_vel_in(world_frame)\n",
    "#Right Shank\n",
    "right_shank_frame.set_ang_vel(right_thigh_frame,vRK*right_thigh_frame.z)\n",
    "right_shank_frame.ang_vel_in(world_frame)\n",
    "#Left Shank\n",
    "left_shank_frame.set_ang_vel(left_thigh_frame,vLK*left_thigh_frame.z)\n",
    "left_shank_frame.ang_vel_in(world_frame)\n",
    "#Right Foot\n",
    "right_foot_frame.set_ang_vel(right_shank_frame,vRA*right_shank_frame.z)\n",
    "right_foot_frame.ang_vel_in(world_frame)\n",
    "#Left Foot\n",
    "left_foot_frame.set_ang_vel(left_shank_frame,vLA*left_shank_frame.z)\n",
    "left_foot_frame.ang_vel_in(world_frame)"
   ]
  },
  {
   "cell_type": "markdown",
   "metadata": {},
   "source": [
    "**Linear Velocities:** Define the linear velocity of each CoM   "
   ]
  },
  {
   "cell_type": "code",
   "execution_count": 12,
   "metadata": {},
   "outputs": [
    {
     "data": {
      "text/latex": [
       "$\\displaystyle \\operatorname{vPx}{\\left(t \\right)}\\mathbf{\\hat{w}_x} + \\operatorname{vPy}{\\left(t \\right)}\\mathbf{\\hat{w}_y} + c_{pelvis} \\operatorname{vPz}{\\left(t \\right)}\\mathbf{\\hat{p}_x} + L_{thigh} \\left(\\operatorname{vLH}{\\left(t \\right)} + \\operatorname{vPz}{\\left(t \\right)}\\right)\\mathbf{\\hat{lt}_x} + L_{shank} \\left(\\operatorname{vLH}{\\left(t \\right)} + \\operatorname{vLK}{\\left(t \\right)} + \\operatorname{vPz}{\\left(t \\right)}\\right)\\mathbf{\\hat{ls}_x} + L_{foot} \\left(\\operatorname{vLA}{\\left(t \\right)} + \\operatorname{vLH}{\\left(t \\right)} + \\operatorname{vLK}{\\left(t \\right)} + \\operatorname{vPz}{\\left(t \\right)}\\right)\\mathbf{\\hat{lf}_x} + W_{foot} \\left(\\operatorname{vLA}{\\left(t \\right)} + \\operatorname{vLH}{\\left(t \\right)} + \\operatorname{vLK}{\\left(t \\right)} + \\operatorname{vPz}{\\left(t \\right)}\\right)\\mathbf{\\hat{lf}_y}$"
      ],
      "text/plain": [
       "vPx(t)*W.x + vPy(t)*W.y + c_pelvis*vPz(t)*P.x + L_thigh*(vLH(t) + vPz(t))*LT.x + L_shank*(vLH(t) + vLK(t) + vPz(t))*LS.x + L_foot*(vLA(t) + vLH(t) + vLK(t) + vPz(t))*LF.x + W_foot*(vLA(t) + vLH(t) + vLK(t) + vPz(t))*LF.y"
      ]
     },
     "execution_count": 12,
     "metadata": {},
     "output_type": "execute_result"
    }
   ],
   "source": [
    "O.set_vel(world_frame,0)\n",
    "\n",
    "#Pelvis\n",
    "root.set_vel(world_frame,vPx*world_frame.x + vPy*world_frame.y)\n",
    "root.vel(world_frame)\n",
    "pelvis_mass_center.set_vel(world_frame,vPx*world_frame.x + vPy*world_frame.y)\n",
    "pelvis_mass_center.vel(world_frame)\n",
    "#Lumbar\n",
    "lumbar.v2pt_theory(root,world_frame,pelvis_frame)\n",
    "lumbar.vel(world_frame)\n",
    "#Torso\n",
    "torso_mass_center.v2pt_theory(lumbar,world_frame,torso_frame)\n",
    "torso_mass_center.vel(world_frame)\n",
    "#Right Hip\n",
    "right_hip.v2pt_theory(root,world_frame,pelvis_frame)\n",
    "right_hip.vel(world_frame)\n",
    "#Left Hip\n",
    "left_hip.v2pt_theory(root,world_frame,pelvis_frame)\n",
    "left_hip.vel(world_frame)\n",
    "#Right thigh\n",
    "right_thigh_mass_center.v2pt_theory(right_hip,world_frame,right_thigh_frame)\n",
    "right_thigh_mass_center.vel(world_frame)\n",
    "#Left thigh\n",
    "left_thigh_mass_center.v2pt_theory(left_hip,world_frame,left_thigh_frame)\n",
    "left_thigh_mass_center.vel(world_frame)\n",
    "#Right Knee\n",
    "right_knee.v2pt_theory(right_hip,world_frame,right_thigh_frame)\n",
    "right_knee.vel(world_frame)\n",
    "#Left Knee\n",
    "left_knee.v2pt_theory(left_hip,world_frame,left_thigh_frame)\n",
    "left_knee.vel(world_frame)\n",
    "#Right Shank\n",
    "right_shank_mass_center.v2pt_theory(right_knee,world_frame,right_shank_frame)\n",
    "right_shank_mass_center.vel(world_frame)\n",
    "#Left Shank\n",
    "left_shank_mass_center.v2pt_theory(left_knee,world_frame,left_shank_frame)\n",
    "left_shank_mass_center.vel(world_frame)\n",
    "#Right Ankle\n",
    "right_ankle.v2pt_theory(right_knee,world_frame,right_shank_frame)\n",
    "right_ankle.vel(world_frame)\n",
    "#Left Ankle\n",
    "left_ankle.v2pt_theory(left_knee,world_frame,left_shank_frame)\n",
    "left_ankle.vel(world_frame)\n",
    "#Right foot\n",
    "right_foot_mass_center.v2pt_theory(right_ankle,world_frame,right_foot_frame)\n",
    "right_foot_mass_center.vel(world_frame)\n",
    "#Left foot\n",
    "left_foot_mass_center.v2pt_theory(left_ankle,world_frame,left_foot_frame)\n",
    "left_foot_mass_center.vel(world_frame)\n",
    "#Right Heel\n",
    "right_heel.v2pt_theory(right_ankle,world_frame,right_foot_frame)\n",
    "right_heel.vel(world_frame)\n",
    "#Right Toe\n",
    "right_toe.v2pt_theory(right_ankle,world_frame,right_foot_frame)\n",
    "right_toe.vel(world_frame)\n",
    "#Left Heel\n",
    "left_heel.v2pt_theory(left_ankle,world_frame,left_foot_frame)\n",
    "left_heel.vel(world_frame)\n",
    "#Right Toe\n",
    "left_toe.v2pt_theory(left_ankle,world_frame,left_foot_frame)\n",
    "left_toe.vel(world_frame)"
   ]
  },
  {
   "cell_type": "markdown",
   "metadata": {},
   "source": [
    "# Inertia  "
   ]
  },
  {
   "cell_type": "markdown",
   "metadata": {},
   "source": [
    "**Mass:** Define the mass of each segment  "
   ]
  },
  {
   "cell_type": "code",
   "execution_count": 13,
   "metadata": {},
   "outputs": [],
   "source": [
    "pelvis_mass, torso_mass, thigh_mass, shank_mass, foot_mass = sm.symbols('m_pelvis m_torso m_thigh m_shank m_foot')"
   ]
  },
  {
   "cell_type": "markdown",
   "metadata": {},
   "source": [
    "**Moment of Inertia:** Define the inertia tensor of each segment    "
   ]
  },
  {
   "cell_type": "code",
   "execution_count": 14,
   "metadata": {},
   "outputs": [],
   "source": [
    "pelvis_inertia, torso_inertia, thigh_inertia, shank_inertia, foot_inertia = sm.symbols('I_pelvis I_torso I_thigh I_shank I_foot')\n",
    "\n",
    "#Pelvis \n",
    "pelvis_dyadic = me.inertia(pelvis_frame,0,0,pelvis_inertia)\n",
    "pelvis_central_inertia = (pelvis_dyadic,pelvis_mass_center)\n",
    "#Torso\n",
    "torso_dyadic = me.inertia(torso_frame,0,0,torso_inertia)\n",
    "torso_central_inertia = (torso_dyadic,torso_mass_center)\n",
    "#Right Thigh\n",
    "right_thigh_dyadic = me.inertia(right_thigh_frame,0,0,thigh_inertia)\n",
    "right_thigh_central_inertia = (right_thigh_dyadic,right_thigh_mass_center)\n",
    "#Left Thigh\n",
    "left_thigh_dyadic = me.inertia(left_thigh_frame,0,0,thigh_inertia)\n",
    "left_thigh_central_inertia = (left_thigh_dyadic,left_thigh_mass_center)\n",
    "#Right Shank\n",
    "right_shank_dyadic = me.inertia(right_shank_frame,0,0,shank_inertia)\n",
    "right_shank_central_inertia = (right_shank_dyadic,right_shank_mass_center)\n",
    "#Left Shank\n",
    "left_shank_dyadic = me.inertia(left_shank_frame,0,0,shank_inertia)\n",
    "left_shank_central_inertia = (left_shank_dyadic,left_shank_mass_center)\n",
    "#Right Foot\n",
    "right_foot_dyadic = me.inertia(right_foot_frame,0,0,foot_inertia)\n",
    "right_foot_central_inertia = (right_foot_dyadic,right_foot_mass_center)\n",
    "#Left foot\n",
    "left_foot_dyadic = me.inertia(left_foot_frame,0,0,foot_inertia)\n",
    "left_foot_central_inertia = (left_foot_dyadic,left_foot_mass_center)"
   ]
  },
  {
   "cell_type": "markdown",
   "metadata": {},
   "source": [
    "**Rigid Bodies:** Define rigid bodies for each of the segments"
   ]
  },
  {
   "cell_type": "code",
   "execution_count": 15,
   "metadata": {},
   "outputs": [],
   "source": [
    "pelvis = me.RigidBody('Pelvis',pelvis_mass_center,pelvis_frame,\n",
    "                      pelvis_mass,pelvis_central_inertia)\n",
    "\n",
    "torso = me.RigidBody('Torso',torso_mass_center,torso_frame,\n",
    "                     torso_mass,torso_central_inertia)\n",
    "\n",
    "right_thigh = me.RigidBody('Right Thigh',right_thigh_mass_center,right_thigh_frame,\n",
    "                           thigh_mass,right_foot_central_inertia)\n",
    "\n",
    "left_thigh = me.RigidBody('Left Thigh',left_thigh_mass_center,left_thigh_frame,\n",
    "                          thigh_mass,left_thigh_central_inertia)\n",
    "\n",
    "right_shank = me.RigidBody('Right Shank',right_shank_mass_center,right_shank_frame,\n",
    "                           shank_mass,right_shank_central_inertia)\n",
    "\n",
    "left_shank = me.RigidBody('Left Shank',left_foot_mass_center,left_shank_frame,\n",
    "                          shank_mass,left_shank_central_inertia)\n",
    "\n",
    "right_foot = me.RigidBody('Right Foot',right_foot_mass_center,right_foot_frame,\n",
    "                          foot_mass,right_foot_central_inertia)\n",
    "\n",
    "left_foot = me.RigidBody('Left Foot', left_foot_mass_center,left_foot_frame,\n",
    "                         foot_mass,left_foot_central_inertia)"
   ]
  },
  {
   "cell_type": "markdown",
   "metadata": {},
   "source": [
    "# Kinetics"
   ]
  },
  {
   "cell_type": "markdown",
   "metadata": {},
   "source": [
    "**Gravity:** Define the gravitational force for each segment            "
   ]
  },
  {
   "cell_type": "code",
   "execution_count": 16,
   "metadata": {},
   "outputs": [],
   "source": [
    "g = sm.symbols('g')\n",
    "\n",
    "#Pelvis\n",
    "pelvis_grav_force_vector = -pelvis_mass*g*world_frame.y\n",
    "pelvis_grav_force = (pelvis_mass_center,pelvis_grav_force_vector)\n",
    "\n",
    "#Torso\n",
    "torso_grav_force_vector = -torso_mass*g*world_frame.y\n",
    "torso_grav_force = (torso_mass_center, torso_grav_force_vector)\n",
    "\n",
    "#Right Thigh\n",
    "right_thigh_grav_force_vector = -thigh_mass*g*world_frame.y\n",
    "right_thigh_grav_force = (right_thigh_mass_center,right_thigh_grav_force_vector)\n",
    "\n",
    "#Left Thigh\n",
    "left_thigh_grav_force_vector = -thigh_mass*g*world_frame.y\n",
    "left_thigh_grav_force = (left_thigh_mass_center,left_thigh_grav_force_vector)\n",
    "\n",
    "#Right Shank\n",
    "right_shank_grav_force_vector = -shank_mass*g*world_frame.y\n",
    "right_shank_grav_force = (right_shank_mass_center,right_shank_grav_force_vector)\n",
    "\n",
    "#Left Shank\n",
    "left_shank_grav_force_vector = -shank_mass*g*world_frame.y\n",
    "left_shank_grav_force = (left_shank_mass_center,left_shank_grav_force_vector)\n",
    "\n",
    "#Right Foot\n",
    "right_foot_grav_force_vector = -foot_mass*g*world_frame.y\n",
    "right_foot_grav_force = (right_foot_mass_center,right_foot_grav_force_vector)\n",
    "\n",
    "#Left Foot\n",
    "left_foot_grav_force_vector = -foot_mass*g*world_frame.y\n",
    "left_foot_grav_force = (left_foot_mass_center,left_foot_grav_force_vector)"
   ]
  },
  {
   "cell_type": "markdown",
   "metadata": {},
   "source": [
    "**Joint Torque:** Define the torque acting at each of the joints"
   ]
  },
  {
   "cell_type": "code",
   "execution_count": 17,
   "metadata": {},
   "outputs": [],
   "source": [
    "lumbar_torque = me.dynamicsymbols('T_lumbar')\n",
    "right_hip_torque = me.dynamicsymbols('T_righhip')\n",
    "left_hip_torque = me.dynamicsymbols('T_lefthip')\n",
    "right_knee_torque = me.dynamicsymbols('T_rightknee')\n",
    "left_knee_torque = me.dynamicsymbols('T_leftknee')\n",
    "right_ankle_torque = me.dynamicsymbols('T_rightankle')\n",
    "left_ankle_torque = me.dynamicsymbols('T_leftankle')\n",
    "\n",
    "#Pelvis\n",
    "pelvis_torque_vector = right_hip_torque*world_frame.z + left_hip_torque*world_frame.z - lumbar_torque*world_frame.z\n",
    "pelvis_torque = (pelvis_frame,pelvis_torque_vector)\n",
    "#Torso\n",
    "torso_torque_vector = lumbar_torque*world_frame.z\n",
    "torso_torque = (torso_frame,torso_torque_vector)\n",
    "#Right Thigh\n",
    "right_thigh_torque_vector = right_knee_torque*world_frame.z - right_hip_torque*world_frame.z\n",
    "right_thigh_torque = (right_thigh_frame,right_thigh_torque_vector)\n",
    "#Left Thigh\n",
    "left_thigh_torque_vector = left_knee_torque*world_frame.z - left_hip_torque*world_frame.z\n",
    "left_thigh_torque = (left_thigh_frame,left_thigh_torque_vector)\n",
    "#Right Shank\n",
    "right_shank_torque_vector = right_ankle_torque*world_frame.z - right_knee_torque*world_frame.z\n",
    "right_shank_torque = (right_shank_frame,right_shank_torque_vector)\n",
    "#Left Shank\n",
    "left_shank_torque_vector = left_ankle_torque*world_frame.z - left_knee_torque*world_frame.z\n",
    "left_shank_torque = (left_shank_frame,left_shank_torque_vector)\n",
    "#Right Foot\n",
    "right_foot_torque_vector = -right_ankle_torque*world_frame.z\n",
    "right_foot_torque = (right_foot_frame,right_foot_torque_vector)\n",
    "#Left Foot\n",
    "left_foot_torque_vector = -left_ankle_torque*world_frame.z\n",
    "left_foot_torque = (left_foot_frame,left_foot_torque_vector)"
   ]
  },
  {
   "cell_type": "markdown",
   "metadata": {},
   "source": [
    "**Ground Reaction Force:** Add ground reaction force to the contact points"
   ]
  },
  {
   "cell_type": "code",
   "execution_count": 18,
   "metadata": {},
   "outputs": [],
   "source": [
    "stiffness, damping, friction, friction_scaling, sled_velocity = sm.symbols('k, c, mu, vs, v_sled') #Characteristic of contact\n",
    "OffSet = pelvis_com_length + thigh_length + shank_length + foot_length\n",
    "\n",
    "#Right Heel\n",
    "y_location = right_heel.pos_from(O).dot(world_frame.y) + OffSet\n",
    "penetration = ((sm.Abs(y_location)) - y_location)/2\n",
    "velocity = right_heel.vel(world_frame) - sled_velocity*world_frame.x\n",
    "\n",
    "vertical_force = (stiffness*penetration**3 - y_location)*\\\n",
    "                (1 - damping*velocity.dot(world_frame.y))\n",
    "\n",
    "friction_force = -friction*vertical_force*\\\n",
    "                ((2 / (1 + sm.exp(-velocity.dot(world_frame.x) /\n",
    "                friction_scaling))) - 1)\n",
    "\n",
    "F_point = 0*world_frame.x + 0*world_frame.y\n",
    "\n",
    "right_heel_contact_force = (right_heel,F_point)\n"
   ]
  },
  {
   "cell_type": "markdown",
   "metadata": {},
   "source": [
    "# Equations of Motion"
   ]
  },
  {
   "cell_type": "markdown",
   "metadata": {},
   "source": [
    "**Kane's Method:** Use Kane's Method to formulate the equations of motion"
   ]
  },
  {
   "cell_type": "code",
   "execution_count": 19,
   "metadata": {},
   "outputs": [],
   "source": [
    "coordinates = [qPx,qPy,qPz,qL,qRH,qLH,qRK,qLK,qRA,qLA]\n",
    "speeds = [vPx,vPy,vPz,vL,vRH,vLH,vRK,vLK,vRA,vLA]\n",
    "\n",
    "kane = me.KanesMethod(world_frame,coordinates,speeds,kinematical_differential_equations)\n",
    "\n",
    "load = [pelvis_grav_force,\n",
    "         torso_grav_force,\n",
    "         right_thigh_grav_force,\n",
    "         left_thigh_grav_force,\n",
    "         right_shank_grav_force,\n",
    "         left_shank_grav_force,\n",
    "         right_foot_grav_force,\n",
    "         left_foot_grav_force,\n",
    "         pelvis_torque,\n",
    "         torso_torque,\n",
    "         right_thigh_torque,\n",
    "         left_thigh_torque,\n",
    "         right_shank_torque,\n",
    "         left_shank_torque,\n",
    "         right_foot_torque,\n",
    "         left_foot_torque,\n",
    "         right_heel_contact_force]\n",
    "\n",
    "body = [pelvis,\n",
    "          torso,\n",
    "          right_thigh,\n",
    "          left_thigh,\n",
    "          right_shank,\n",
    "          left_shank,\n",
    "          right_foot,\n",
    "          left_foot]\n",
    "\n",
    "fr, frstar = kane.kanes_equations(bodies=body,loads=load)\n",
    "mass_matrix = kane.mass_matrix_full\n",
    "forcing_vector = kane.forcing_full"
   ]
  },
  {
   "cell_type": "markdown",
   "metadata": {},
   "source": [
    "# Simulate"
   ]
  },
  {
   "cell_type": "markdown",
   "metadata": {},
   "source": [
    "**Variables:** Declare the variables for the simulation"
   ]
  },
  {
   "cell_type": "code",
   "execution_count": 20,
   "metadata": {},
   "outputs": [],
   "source": [
    "constants = [pelvis_length,\n",
    "             torso_length,\n",
    "             thigh_length,\n",
    "             shank_length,\n",
    "             foot_length,\n",
    "             foot_width,\n",
    "             pelvis_com_length,\n",
    "             torso_com_length,\n",
    "             thigh_com_length,\n",
    "             shank_com_length,\n",
    "             foot_com_length,\n",
    "             foot_com_length_x,\n",
    "             pelvis_mass,\n",
    "             torso_mass,\n",
    "             thigh_mass,\n",
    "             shank_mass,\n",
    "             foot_mass,\n",
    "             pelvis_inertia,\n",
    "             torso_inertia,\n",
    "             thigh_inertia,\n",
    "             shank_inertia,\n",
    "             foot_inertia,\n",
    "             g,\n",
    "             stiffness,\n",
    "             damping,\n",
    "             friction,\n",
    "             friction_scaling,\n",
    "             sled_velocity]\n",
    "\n",
    "\n",
    "coordinates = [qPx,qPy,qPz,qL,qRH,qLH,qRK,qLK,qRA,qLA]\n",
    "speeds = [vPx,vPy,vPz,vL,vRH,vLH,vRK,vLK,vRA,vLA]\n",
    "\n",
    "specified = [lumbar_torque,right_hip_torque,left_hip_torque,\n",
    "             right_knee_torque,left_knee_torque,\n",
    "             right_ankle_torque, left_ankle_torque]"
   ]
  },
  {
   "cell_type": "markdown",
   "metadata": {},
   "source": [
    "**Generate Numerical ODE Function:** Use PyDy to generate the ODEs for odeint to integrate"
   ]
  },
  {
   "cell_type": "code",
   "execution_count": 21,
   "metadata": {},
   "outputs": [
    {
     "name": "stdout",
     "output_type": "stream",
     "text": [
      "Help on function rhs in module pydy.codegen.ode_function_generators:\n",
      "\n",
      "rhs(*args)\n",
      "    Returns the derivatives of the states, i.e. numerically evaluates the right\n",
      "    hand side of the first order differential equation.\n",
      "\n",
      "    x' = f(x, t, r, p)\n",
      "\n",
      "    Parameters\n",
      "    ==========\n",
      "    x : ndarray, shape(20,)\n",
      "        The state vector is ordered as such:\n",
      "            - qPx(t)\n",
      "            - qPy(t)\n",
      "            - qPz(t)\n",
      "            - qL(t)\n",
      "            - qRH(t)\n",
      "            - qLH(t)\n",
      "            - qRK(t)\n",
      "            - qLK(t)\n",
      "            - qRA(t)\n",
      "            - qLA(t)\n",
      "            - vPx(t)\n",
      "            - vPy(t)\n",
      "            - vPz(t)\n",
      "            - vL(t)\n",
      "            - vRH(t)\n",
      "            - vLH(t)\n",
      "            - vRK(t)\n",
      "            - vLK(t)\n",
      "            - vRA(t)\n",
      "            - vLA(t)\n",
      "    t : float\n",
      "        The current time.\n",
      "    r : dictionary; ndarray, shape(7,); function\n",
      "\n",
      "        There are three options for this argument. (1) is more flexible but\n",
      "        (2) and (3) are much more efficient.\n",
      "\n",
      "        (1) A dictionary that maps the specified functions of time to floats,\n",
      "        ndarrays, or functions that produce ndarrays. The keys can be a single\n",
      "        specified symbolic function of time or a tuple of symbols. The total\n",
      "        number of symbols must be equal to 7. If the value is a\n",
      "        function it must be of the form g(x, t), where x is the current state\n",
      "        vector ndarray and t is the current time float and it must return an\n",
      "        ndarray of the correct shape. For example::\n",
      "\n",
      "          r = {a: 1.0,\n",
      "               (d, b) : np.array([1.0, 2.0]),\n",
      "               (e, f) : lambda x, t: np.array(x[0], x[1]),\n",
      "               c: lambda x, t: np.array(x[2])}\n",
      "\n",
      "        (2) A ndarray with the specified values in the correct order and of the\n",
      "        correct shape.\n",
      "\n",
      "        (3) A function that must be of the form g(x, t), where x is the current\n",
      "        state vector and t is the current time and it must return an ndarray of\n",
      "        the correct shape.\n",
      "\n",
      "        The specified inputs are, in order:\n",
      "            - T_lumbar(t)\n",
      "            - T_righhip(t)\n",
      "            - T_lefthip(t)\n",
      "            - T_rightknee(t)\n",
      "            - T_leftknee(t)\n",
      "            - T_rightankle(t)\n",
      "            - T_leftankle(t)\n",
      "    p : dictionary len(28) or ndarray shape(28,)\n",
      "        Either a dictionary that maps the constants symbols to their numerical\n",
      "        values or an array with the constants in the following order:\n",
      "            - L_pelvis\n",
      "            - L_torso\n",
      "            - L_thigh\n",
      "            - L_shank\n",
      "            - L_foot\n",
      "            - W_foot\n",
      "            - c_pelvis\n",
      "            - c_torso\n",
      "            - c_thigh\n",
      "            - c_shank\n",
      "            - c_foot\n",
      "            - cx_foot\n",
      "            - m_pelvis\n",
      "            - m_torso\n",
      "            - m_thigh\n",
      "            - m_shank\n",
      "            - m_foot\n",
      "            - I_pelvis\n",
      "            - I_torso\n",
      "            - I_thigh\n",
      "            - I_shank\n",
      "            - I_foot\n",
      "            - g\n",
      "            - k\n",
      "            - c\n",
      "            - mu\n",
      "            - vs\n",
      "            - v_sled\n",
      "\n",
      "    Returns\n",
      "    =======\n",
      "    dx : ndarray, shape(20,)\n",
      "        The derivative of the state vector.\n",
      "\n"
     ]
    }
   ],
   "source": [
    "right_hand_side = generate_ode_function(forcing_vector,\n",
    "                                        coordinates,speeds,\n",
    "                                        constants,\n",
    "                                        mass_matrix = mass_matrix,\n",
    "                                        specifieds = specified,\n",
    "                                        generator = 'cython')\n",
    "\n",
    "help(right_hand_side)"
   ]
  },
  {
   "cell_type": "markdown",
   "metadata": {},
   "source": [
    "**Function Inputs:** Initial conditions, parameter values, and time array"
   ]
  },
  {
   "cell_type": "code",
   "execution_count": 22,
   "metadata": {},
   "outputs": [],
   "source": [
    "#Initial Conditions\n",
    "x0 = np.zeros(20)\n",
    "\n",
    "#Constants\n",
    "numerical_constants = np.array([0.1, #Pevlis length [m]\n",
    "                                1.0, #torso length [m]\n",
    "                                0.6, #thigh length [m]\n",
    "                                0.5, #shank length [m]\n",
    "                                0.1, #foot length\n",
    "                                0.3, #Foot width\n",
    "                                0.05, #Pelvis com length [m]\n",
    "                                0.5, #torso com length [m]\n",
    "                                0.3, #thigh com length \n",
    "                                0.25, #shank com length \n",
    "                                0.05, #foot com length\n",
    "                                0.15, #foot com length x\n",
    "                                10.0, #pelvis mass\n",
    "                                30.0, #torso mass \n",
    "                                15.0, #Thigh mass\n",
    "                                10.0, #shank mass\n",
    "                                5.0, #foot mass\n",
    "                                3.0, #Pelvis inertia\n",
    "                                8.0, #torso inertia\n",
    "                                2.0, #thigh inertia\n",
    "                                1.0, #shank inertia\n",
    "                                0.5, #Foot inertia\n",
    "                                9.81, #gravity\n",
    "                                5.0e+7, #stiffness \n",
    "                                0.85, #damping \n",
    "                                1.0, #friction \n",
    "                                0.01, #friction scaling \n",
    "                                0.0]) #sled velocity\n",
    "\n",
    "numerical_specified = np.zeros(7)\n",
    "\n",
    "args = {'constants': numerical_constants,\n",
    "        'specified': numerical_specified}\n",
    "\n",
    "frame_per_sec = 60.0\n",
    "final_time = 10.0\n",
    "\n",
    "t = np.linspace(0.0,final_time,int(final_time*frame_per_sec))"
   ]
  },
  {
   "cell_type": "markdown",
   "metadata": {},
   "source": [
    "**Integrate the ODE:** Use odeint to solve the ODEs"
   ]
  },
  {
   "cell_type": "code",
   "execution_count": 23,
   "metadata": {},
   "outputs": [
    {
     "name": "stderr",
     "output_type": "stream",
     "text": [
      "C:\\Users\\anbes\\AppData\\Local\\Temp\\ipykernel_14860\\827528399.py:1: ODEintWarning: Excess work done on this call (perhaps wrong Dfun type). Run with full_output = 1 to get quantitative information.\n",
      "  y = odeint(right_hand_side,x0,t,args=(numerical_specified,numerical_constants))\n"
     ]
    }
   ],
   "source": [
    "y = odeint(right_hand_side,x0,t,args=(numerical_specified,numerical_constants))"
   ]
  },
  {
   "cell_type": "markdown",
   "metadata": {},
   "source": [
    "# Visualization"
   ]
  },
  {
   "cell_type": "code",
   "execution_count": 24,
   "metadata": {},
   "outputs": [
    {
     "name": "stdout",
     "output_type": "stream",
     "text": [
      "c:\\Users\\anbes\\Documents\\ReactiveBalanceSim\\Phase 1 - Create Model\\pydy-resources\n",
      "Serving HTTP on 127.0.0.1 port 8000 ...\n",
      "To view visualization, open:\n",
      "\n",
      "http://localhost:8000/index.html?load=2025-03-11_13-46-23_scene_desc.json\n",
      "Press Ctrl+C to stop server...\n"
     ]
    },
    {
     "name": "stderr",
     "output_type": "stream",
     "text": [
      "127.0.0.1 - - [11/Mar/2025 13:46:30] \"GET /index.html?load=2025-03-11_13-46-23_scene_desc.json HTTP/1.1\" 200 -\n",
      "127.0.0.1 - - [11/Mar/2025 13:46:30] \"GET /2025-03-11_13-46-23_scene_desc.json HTTP/1.1\" 200 -\n",
      "127.0.0.1 - - [11/Mar/2025 13:46:30] code 404, message File not found\n",
      "127.0.0.1 - - [11/Mar/2025 13:46:30] \"GET /fonts/glyphicons-halflings-regular.woff2 HTTP/1.1\" 404 -\n",
      "127.0.0.1 - - [11/Mar/2025 13:46:31] \"GET /2025-03-11_13-46-23_simulation_data.json HTTP/1.1\" 200 -\n"
     ]
    }
   ],
   "source": [
    "contact_shape = Sphere(color='red',radius=0.01)\n",
    "\n",
    "right_heel_viz_frame = VisualizationFrame(world_frame,right_heel,contact_shape)\n",
    "right_toe_viz_frame = VisualizationFrame(world_frame,right_toe,contact_shape)\n",
    "left_heel_viz_frame = VisualizationFrame(world_frame,left_heel,contact_shape)\n",
    "left_toe_viz_frame = VisualizationFrame(world_frame,left_toe,contact_shape)\n",
    "\n",
    "ankle_shape = Sphere(color = 'black',radius = 0.05)\n",
    "knee_shape = Sphere(color = 'black',radius = 0.05)\n",
    "hip_shape = Sphere(color = 'black',radius = 0.05)\n",
    "lumbar_shape = Sphere(color = 'black',radius = 0.05)\n",
    "head_shape = Sphere(color = 'black',radius = 0.1)\n",
    "\n",
    "right_ankle_viz_frame = VisualizationFrame(world_frame,right_ankle,ankle_shape)\n",
    "left_ankle_viz_frame = VisualizationFrame(world_frame,left_ankle,ankle_shape)\n",
    "right_knee_viz_frame = VisualizationFrame(world_frame,right_knee,knee_shape)\n",
    "left_knee_viz_frame = VisualizationFrame(world_frame,left_knee,knee_shape)\n",
    "right_hip_viz_frame = VisualizationFrame(world_frame,right_knee,hip_shape)\n",
    "left_hip_viz_frame = VisualizationFrame(world_frame,left_hip,hip_shape)\n",
    "lumbar_viz_frame = VisualizationFrame(world_frame,lumbar,lumbar_shape)\n",
    "\n",
    "head = me.Point('N')\n",
    "head.set_pos(lumbar,torso_length*torso_frame.y)\n",
    "head_viz_frame = VisualizationFrame(world_frame,head,head_shape)\n",
    "\n",
    "right_foot_center = me.Point('RF_c')\n",
    "left_foot_center = me.Point('LF_c')\n",
    "right_shank_center = me.Point('RS_c')\n",
    "left_shank_center = me.Point('LS_c')\n",
    "right_thigh_center = me.Point('RT_c')\n",
    "left_thigh_center = me.Point('LT_c')\n",
    "pelvis_center = me.Point('P_c')\n",
    "torso_center = me.Point('T_c')\n",
    "\n",
    "right_foot_center.set_pos(right_ankle,(foot_width/2)*right_foot_frame.x - (foot_length/2)*right_foot_frame.y)\n",
    "left_foot_center.set_pos(left_ankle,(foot_width/2)*left_foot_frame.x - (foot_length/2)*left_foot_frame.y)\n",
    "right_shank_center.set_pos(right_ankle,(shank_length/2)*right_shank_frame.y)\n",
    "left_shank_center.set_pos(left_ankle,(shank_length/2)*left_shank_frame.y)\n",
    "right_thigh_center.set_pos(right_knee,(thigh_length/2)*right_thigh_frame.y)\n",
    "left_thigh_center.set_pos(left_knee,(thigh_length/2)*left_thigh_frame.y)\n",
    "pelvis_center.set_pos(lumbar,-1*(pelvis_length/2)*pelvis_frame.y)\n",
    "torso_center.set_pos(lumbar,(torso_length/2)*torso_frame.y)\n",
    "\n",
    "\n",
    "constants_dict = dict(zip(constants,numerical_constants))\n",
    "\n",
    "foot_shape = Cylinder(radius=foot_width/2,length = constants_dict[foot_length],color='blue')\n",
    "shank_shape = Cylinder(radius=0.08,length = constants_dict[shank_length],color='red')\n",
    "thigh_shape = Cylinder(radius=0.08,length = constants_dict[thigh_length],color='green')\n",
    "pelvis_shape = Cylinder(radius=0.08,length = constants_dict[pelvis_length],color='orange')\n",
    "torso_shape = Cylinder(radius=0.08,length = constants_dict[torso_length],color='purple')\n",
    "\n",
    "\n",
    "right_foot_viz_frame = VisualizationFrame('Right Foot', right_foot_frame,right_foot_center,foot_shape)\n",
    "left_foot_viz_frame = VisualizationFrame('Left Foot', left_foot_frame,left_foot_center,foot_shape)\n",
    "right_shank_viz_frame = VisualizationFrame('Right Shank', right_shank_frame,right_shank_center,shank_shape)\n",
    "left_shank_viz_frame = VisualizationFrame('Left Shank', left_shank_frame,left_shank_center,shank_shape)\n",
    "right_thigh_viz_frame = VisualizationFrame('Right Thigh',right_thigh_frame,right_thigh_center,thigh_shape)\n",
    "left_thigh_viz_frame = VisualizationFrame('Left Thigh',left_thigh_frame,left_thigh_center,thigh_shape)\n",
    "pelvis_viz_frame = VisualizationFrame('Pelvis',pelvis_frame,pelvis_center,pelvis_shape)\n",
    "torso_viz_frame = VisualizationFrame('Torso',torso_frame,torso_center,torso_shape)\n",
    "\n",
    "scene = Scene(world_frame,O)\n",
    "\n",
    "scene.visualization_frames = [right_heel_viz_frame,\n",
    "                              right_toe_viz_frame,\n",
    "                              left_heel_viz_frame,\n",
    "                              left_toe_viz_frame,\n",
    "                              right_ankle_viz_frame,\n",
    "                              left_ankle_viz_frame,\n",
    "                              right_knee_viz_frame,\n",
    "                              left_knee_viz_frame,\n",
    "                              right_hip_viz_frame,\n",
    "                              left_hip_viz_frame,\n",
    "                              lumbar_viz_frame,\n",
    "                              head_viz_frame,\n",
    "                              right_foot_viz_frame,\n",
    "                              left_foot_viz_frame,\n",
    "                              right_shank_viz_frame,\n",
    "                              left_shank_viz_frame,\n",
    "                              right_thigh_viz_frame,\n",
    "                              left_thigh_viz_frame,\n",
    "                              pelvis_viz_frame,\n",
    "                              torso_viz_frame]\n",
    "\n",
    "scene.states_symbols = coordinates + speeds\n",
    "scene.constants = constants_dict\n",
    "scene.states_trajectories = y\n",
    "\n",
    "if viz_switch:\n",
    "    scene.display()\n",
    "\n"
   ]
  }
 ],
 "metadata": {
  "kernelspec": {
   "display_name": "ReactiveBalanceSim",
   "language": "python",
   "name": "python3"
  },
  "language_info": {
   "codemirror_mode": {
    "name": "ipython",
    "version": 3
   },
   "file_extension": ".py",
   "mimetype": "text/x-python",
   "name": "python",
   "nbconvert_exporter": "python",
   "pygments_lexer": "ipython3",
   "version": "3.13.2"
  }
 },
 "nbformat": 4,
 "nbformat_minor": 2
}
