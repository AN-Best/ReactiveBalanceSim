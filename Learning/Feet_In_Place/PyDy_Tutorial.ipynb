{
 "cells": [
  {
   "cell_type": "code",
   "execution_count": 125,
   "metadata": {},
   "outputs": [],
   "source": [
    "import numpy as np\n",
    "import sympy as sm\n",
    "import sympy.physics.mechanics as me\n",
    "import pydy"
   ]
  },
  {
   "cell_type": "markdown",
   "metadata": {},
   "source": [
    "# Kinematics  "
   ]
  },
  {
   "cell_type": "markdown",
   "metadata": {},
   "source": [
    "**Reference Frames:** Declare inertial reference frames and frames for each body"
   ]
  },
  {
   "cell_type": "code",
   "execution_count": 126,
   "metadata": {},
   "outputs": [],
   "source": [
    "inertial_frame = me.ReferenceFrame('I')\n",
    "lower_leg_frame = me.ReferenceFrame('L')\n",
    "upper_leg_frame = me.ReferenceFrame('U')\n",
    "torso_frame = me.ReferenceFrame('T')"
   ]
  },
  {
   "cell_type": "markdown",
   "metadata": {},
   "source": [
    "**Coordinates:** Declaring coordinates for each of the joint angle."
   ]
  },
  {
   "cell_type": "code",
   "execution_count": 127,
   "metadata": {},
   "outputs": [],
   "source": [
    "theta1, theta2, theta3 = me.dynamicsymbols('theta1 theta2 theta3')"
   ]
  },
  {
   "cell_type": "markdown",
   "metadata": {},
   "source": [
    "**Orient Frames:** Orient each of the reference frames according to the coordinate"
   ]
  },
  {
   "cell_type": "code",
   "execution_count": 128,
   "metadata": {},
   "outputs": [],
   "source": [
    "lower_leg_frame.orient(inertial_frame,'Axis',(theta1,inertial_frame.z)) \n",
    "upper_leg_frame.orient(lower_leg_frame,'Axis',(theta2,lower_leg_frame.z))\n",
    "torso_frame.orient(upper_leg_frame,'Axis',(theta3,upper_leg_frame.z))"
   ]
  },
  {
   "cell_type": "markdown",
   "metadata": {},
   "source": [
    "**Joints:** Set the position of each of the joints"
   ]
  },
  {
   "cell_type": "code",
   "execution_count": 129,
   "metadata": {},
   "outputs": [
    {
     "data": {
      "text/latex": [
       "$\\displaystyle l_{U}\\mathbf{\\hat{u}_y} + l_{L}\\mathbf{\\hat{l}_y}$"
      ],
      "text/plain": [
       "l_L*L.y + l_U*U.y"
      ]
     },
     "execution_count": 129,
     "metadata": {},
     "output_type": "execute_result"
    }
   ],
   "source": [
    "#Ankle\n",
    "ankle = me.Point('A')\n",
    "#Knee\n",
    "lower_leg_length = sm.symbols('l_L')\n",
    "knee = me.Point('K')\n",
    "knee.set_pos(ankle,lower_leg_length*lower_leg_frame.y)\n",
    "knee.pos_from(ankle)\n",
    "#Hip\n",
    "upper_leg_length = sm.symbols('l_U')\n",
    "hip = me.Point('H')\n",
    "hip.set_pos(knee,upper_leg_length*upper_leg_frame.y)\n",
    "hip.pos_from(ankle)\n"
   ]
  },
  {
   "cell_type": "markdown",
   "metadata": {},
   "source": [
    "**Centre of Mass:** Set the position of the CoM of each segment"
   ]
  },
  {
   "cell_type": "code",
   "execution_count": 130,
   "metadata": {},
   "outputs": [
    {
     "data": {
      "text/latex": [
       "$\\displaystyle d_{T}\\mathbf{\\hat{t}_y} + l_{U}\\mathbf{\\hat{u}_y} + l_{L}\\mathbf{\\hat{l}_y}$"
      ],
      "text/plain": [
       "l_L*L.y + l_U*U.y + d_T*T.y"
      ]
     },
     "execution_count": 130,
     "metadata": {},
     "output_type": "execute_result"
    }
   ],
   "source": [
    "#Lower leg\n",
    "lower_leg_com_length = sm.symbols('d_L')\n",
    "lower_leg_mass_center = me.Point('L_o')\n",
    "lower_leg_mass_center.set_pos(ankle,lower_leg_com_length*lower_leg_frame.y)\n",
    "lower_leg_mass_center.pos_from(ankle)\n",
    "\n",
    "#Upper Leg\n",
    "upper_leg_com_length = sm.symbols('d_U')\n",
    "upper_leg_mass_center = me.Point('U_o')\n",
    "upper_leg_mass_center.set_pos(knee,upper_leg_com_length*upper_leg_frame.y)\n",
    "upper_leg_mass_center.pos_from(ankle)\n",
    "\n",
    "#Torso\n",
    "torso_com_length = sm.symbols('d_T')\n",
    "torso_mass_center = me.Point('T_o')\n",
    "torso_mass_center.set_pos(hip,torso_com_length*torso_frame.y)\n",
    "torso_mass_center.pos_from(ankle)"
   ]
  },
  {
   "cell_type": "markdown",
   "metadata": {},
   "source": [
    "**Kinematical Differential Equations:** Declare generalized speeds of each coordinate and relate them to the generalized coordinates to form the *Kinematical Differential Equations*"
   ]
  },
  {
   "cell_type": "code",
   "execution_count": 131,
   "metadata": {},
   "outputs": [],
   "source": [
    "omega1, omega2, omega3 = me.dynamicsymbols('omega1 omega2 omega3')\n",
    "\n",
    "kinematical_differential_equations = [omega1 - theta1.diff(),\n",
    "                                      omega2 - theta2.diff(),\n",
    "                                      omega3 - theta3.diff()]"
   ]
  },
  {
   "cell_type": "markdown",
   "metadata": {},
   "source": [
    "**Angular Velcoities:** Now we can use the defined generalized speeds to specify the angular velocity of each of the coordinate system\n"
   ]
  },
  {
   "cell_type": "code",
   "execution_count": 132,
   "metadata": {},
   "outputs": [
    {
     "data": {
      "text/latex": [
       "$\\displaystyle \\omega_{3}{\\left(t \\right)}\\mathbf{\\hat{u}_z} + \\omega_{2}{\\left(t \\right)}\\mathbf{\\hat{l}_z} + \\omega_{1}{\\left(t \\right)}\\mathbf{\\hat{i}_z}$"
      ],
      "text/plain": [
       "omega1(t)*I.z + omega2(t)*L.z + omega3(t)*U.z"
      ]
     },
     "execution_count": 132,
     "metadata": {},
     "output_type": "execute_result"
    }
   ],
   "source": [
    "#Lower Leg\n",
    "lower_leg_frame.set_ang_vel(inertial_frame,omega1*inertial_frame.z)\n",
    "lower_leg_frame.ang_vel_in(inertial_frame)\n",
    "\n",
    "#Upper Leg\n",
    "upper_leg_frame.set_ang_vel(lower_leg_frame,omega2*lower_leg_frame.z)\n",
    "upper_leg_frame.ang_vel_in(inertial_frame)\n",
    "\n",
    "#Torso\n",
    "torso_frame.set_ang_vel(upper_leg_frame,omega3*upper_leg_frame.z)\n",
    "torso_frame.ang_vel_in(inertial_frame)"
   ]
  },
  {
   "cell_type": "markdown",
   "metadata": {},
   "source": [
    "**Linear Velocities:** Define the linear velocity of each of the CoM starting from the ankle that has a linear velocity of zero"
   ]
  },
  {
   "cell_type": "code",
   "execution_count": 133,
   "metadata": {},
   "outputs": [
    {
     "data": {
      "text/latex": [
       "$\\displaystyle -  l_{L} \\omega_{1}{\\left(t \\right)}\\mathbf{\\hat{l}_x} -  l_{U} \\left(\\omega_{1}{\\left(t \\right)} + \\omega_{2}{\\left(t \\right)}\\right)\\mathbf{\\hat{u}_x} -  d_{T} \\left(\\omega_{1}{\\left(t \\right)} + \\omega_{2}{\\left(t \\right)} + \\omega_{3}{\\left(t \\right)}\\right)\\mathbf{\\hat{t}_x}$"
      ],
      "text/plain": [
       "- l_L*omega1(t)*L.x - l_U*(omega1(t) + omega2(t))*U.x - d_T*(omega1(t) + omega2(t) + omega3(t))*T.x"
      ]
     },
     "execution_count": 133,
     "metadata": {},
     "output_type": "execute_result"
    }
   ],
   "source": [
    "ankle.set_vel(inertial_frame,0)\n",
    "\n",
    "#Lower Leg\n",
    "lower_leg_mass_center.v2pt_theory(ankle,inertial_frame,lower_leg_frame)\n",
    "lower_leg_mass_center.vel(inertial_frame)\n",
    "\n",
    "#Knee\n",
    "knee.v2pt_theory(ankle,inertial_frame,lower_leg_frame)\n",
    "knee.vel(inertial_frame)\n",
    "\n",
    "#Upper Leg\n",
    "upper_leg_mass_center.v2pt_theory(knee,inertial_frame,upper_leg_frame)\n",
    "upper_leg_mass_center.vel(inertial_frame)\n",
    "\n",
    "#Hip\n",
    "hip.v2pt_theory(knee,inertial_frame,upper_leg_frame)\n",
    "hip.vel(inertial_frame)\n",
    "\n",
    "#Torso\n",
    "torso_mass_center.v2pt_theory(hip,inertial_frame,torso_frame)\n",
    "torso_mass_center.vel(inertial_frame)\n"
   ]
  },
  {
   "cell_type": "markdown",
   "metadata": {},
   "source": [
    "# Inertia"
   ]
  }
 ],
 "metadata": {
  "kernelspec": {
   "display_name": "ReactiveBalanceSim",
   "language": "python",
   "name": "python3"
  },
  "language_info": {
   "codemirror_mode": {
    "name": "ipython",
    "version": 3
   },
   "file_extension": ".py",
   "mimetype": "text/x-python",
   "name": "python",
   "nbconvert_exporter": "python",
   "pygments_lexer": "ipython3",
   "version": "3.13.2"
  }
 },
 "nbformat": 4,
 "nbformat_minor": 2
}
