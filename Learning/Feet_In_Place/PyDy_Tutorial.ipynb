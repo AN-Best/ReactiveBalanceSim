{
 "cells": [
  {
   "cell_type": "code",
   "execution_count": 2,
   "metadata": {},
   "outputs": [],
   "source": [
    "import numpy as np\n",
    "import sympy as sm\n",
    "import sympy.physics.mechanics as me\n",
    "from sympy.physics.vector import init_vprinting, vlatex\n",
    "init_vprinting(use_latex = True, pretty_print = False)\n",
    "from scipy.integrate import odeint\n",
    "from pydy.codegen.ode_function_generators import generate_ode_function\n",
    "from pydy.viz.shapes import Cylinder, Sphere\n",
    "import pydy.viz\n",
    "pydy.viz.shapes.__all__\n",
    "from pydy.viz.visualization_frame import VisualizationFrame\n",
    "from pydy.viz.scene import Scene\n",
    "from matplotlib.pyplot import plot, legend, xlabel, ylabel, rcParams\n",
    "rcParams['figure.figsize'] = (14.0, 6.0)"
   ]
  },
  {
   "cell_type": "markdown",
   "metadata": {},
   "source": [
    "# Kinematics  "
   ]
  },
  {
   "cell_type": "markdown",
   "metadata": {},
   "source": [
    "**Reference Frames:** Declare inertial reference frames and frames for each body"
   ]
  },
  {
   "cell_type": "code",
   "execution_count": 3,
   "metadata": {},
   "outputs": [],
   "source": [
    "inertial_frame = me.ReferenceFrame('I')\n",
    "lower_leg_frame = me.ReferenceFrame('L')\n",
    "upper_leg_frame = me.ReferenceFrame('U')\n",
    "torso_frame = me.ReferenceFrame('T')"
   ]
  },
  {
   "cell_type": "markdown",
   "metadata": {},
   "source": [
    "**Coordinates:** Declaring coordinates for each of the joint angle."
   ]
  },
  {
   "cell_type": "code",
   "execution_count": 4,
   "metadata": {},
   "outputs": [],
   "source": [
    "theta1, theta2, theta3 = me.dynamicsymbols('theta1 theta2 theta3')"
   ]
  },
  {
   "cell_type": "markdown",
   "metadata": {},
   "source": [
    "**Orient Frames:** Orient each of the reference frames according to the coordinate"
   ]
  },
  {
   "cell_type": "code",
   "execution_count": 5,
   "metadata": {},
   "outputs": [],
   "source": [
    "lower_leg_frame.orient(inertial_frame,'Axis',(theta1,inertial_frame.z)) \n",
    "upper_leg_frame.orient(lower_leg_frame,'Axis',(theta2,lower_leg_frame.z))\n",
    "torso_frame.orient(upper_leg_frame,'Axis',(theta3,upper_leg_frame.z))"
   ]
  },
  {
   "cell_type": "markdown",
   "metadata": {},
   "source": [
    "**Joints:** Set the position of each of the joints"
   ]
  },
  {
   "cell_type": "code",
   "execution_count": 6,
   "metadata": {},
   "outputs": [
    {
     "data": {
      "image/png": "[encoded data removed]",
      "text/latex": [
       "$\\displaystyle l_{U}\\mathbf{\\hat{u}_y} + l_{L}\\mathbf{\\hat{l}_y}$"
      ],
      "text/plain": [
       "l_L*L.y + l_U*U.y"
      ]
     },
     "execution_count": 6,
     "metadata": {},
     "output_type": "execute_result"
    }
   ],
   "source": [
    "#Ankle\n",
    "ankle = me.Point('A')\n",
    "#Knee\n",
    "lower_leg_length = sm.symbols('l_L')\n",
    "knee = me.Point('K')\n",
    "knee.set_pos(ankle,lower_leg_length*lower_leg_frame.y)\n",
    "knee.pos_from(ankle)\n",
    "#Hip\n",
    "upper_leg_length = sm.symbols('l_U')\n",
    "hip = me.Point('H')\n",
    "hip.set_pos(knee,upper_leg_length*upper_leg_frame.y)\n",
    "hip.pos_from(ankle)\n"
   ]
  },
  {
   "cell_type": "markdown",
   "metadata": {},
   "source": [
    "**Centre of Mass:** Set the position of the CoM of each segment"
   ]
  },
  {
   "cell_type": "code",
   "execution_count": 7,
   "metadata": {},
   "outputs": [
    {
     "data": {
      "image/png": "[encoded data removed]",
      "text/latex": [
       "$\\displaystyle d_{T}\\mathbf{\\hat{t}_y} + l_{U}\\mathbf{\\hat{u}_y} + l_{L}\\mathbf{\\hat{l}_y}$"
      ],
      "text/plain": [
       "l_L*L.y + l_U*U.y + d_T*T.y"
      ]
     },
     "execution_count": 7,
     "metadata": {},
     "output_type": "execute_result"
    }
   ],
   "source": [
    "#Lower leg\n",
    "lower_leg_com_length = sm.symbols('d_L')\n",
    "lower_leg_mass_center = me.Point('L_o')\n",
    "lower_leg_mass_center.set_pos(ankle,lower_leg_com_length*lower_leg_frame.y)\n",
    "lower_leg_mass_center.pos_from(ankle)\n",
    "\n",
    "#Upper Leg\n",
    "upper_leg_com_length = sm.symbols('d_U')\n",
    "upper_leg_mass_center = me.Point('U_o')\n",
    "upper_leg_mass_center.set_pos(knee,upper_leg_com_length*upper_leg_frame.y)\n",
    "upper_leg_mass_center.pos_from(ankle)\n",
    "\n",
    "#Torso\n",
    "torso_com_length = sm.symbols('d_T')\n",
    "torso_mass_center = me.Point('T_o')\n",
    "torso_mass_center.set_pos(hip,torso_com_length*torso_frame.y)\n",
    "torso_mass_center.pos_from(ankle)"
   ]
  },
  {
   "cell_type": "markdown",
   "metadata": {},
   "source": [
    "**Kinematical Differential Equations:** Declare generalized speeds of each coordinate and relate them to the generalized coordinates to form the *Kinematical Differential Equations*"
   ]
  },
  {
   "cell_type": "code",
   "execution_count": 8,
   "metadata": {},
   "outputs": [],
   "source": [
    "omega1, omega2, omega3 = me.dynamicsymbols('omega1 omega2 omega3')\n",
    "\n",
    "kinematical_differential_equations = [omega1 - theta1.diff(),\n",
    "                                      omega2 - theta2.diff(),\n",
    "                                      omega3 - theta3.diff()]"
   ]
  },
  {
   "cell_type": "markdown",
   "metadata": {},
   "source": [
    "**Angular Velcoities:** Now we can use the defined generalized speeds to specify the angular velocity of each of the coordinate system\n"
   ]
  },
  {
   "cell_type": "code",
   "execution_count": 9,
   "metadata": {},
   "outputs": [
    {
     "data": {
      "image/png": "[encoded data removed]",
      "text/latex": [
       "$\\displaystyle \\omega_{3}\\mathbf{\\hat{u}_z} + \\omega_{2}\\mathbf{\\hat{l}_z} + \\omega_{1}\\mathbf{\\hat{i}_z}$"
      ],
      "text/plain": [
       "omega1*I.z + omega2*L.z + omega3*U.z"
      ]
     },
     "execution_count": 9,
     "metadata": {},
     "output_type": "execute_result"
    }
   ],
   "source": [
    "#Lower Leg\n",
    "lower_leg_frame.set_ang_vel(inertial_frame,omega1*inertial_frame.z)\n",
    "lower_leg_frame.ang_vel_in(inertial_frame)\n",
    "\n",
    "#Upper Leg\n",
    "upper_leg_frame.set_ang_vel(lower_leg_frame,omega2*lower_leg_frame.z)\n",
    "upper_leg_frame.ang_vel_in(inertial_frame)\n",
    "\n",
    "#Torso\n",
    "torso_frame.set_ang_vel(upper_leg_frame,omega3*upper_leg_frame.z)\n",
    "torso_frame.ang_vel_in(inertial_frame)"
   ]
  },
  {
   "cell_type": "markdown",
   "metadata": {},
   "source": [
    "**Linear Velocities:** Define the linear velocity of each of the CoM starting from the ankle that has a linear velocity of zero"
   ]
  },
  {
   "cell_type": "code",
   "execution_count": 10,
   "metadata": {},
   "outputs": [
    {
     "data": {
      "image/png": "[encoded data removed]",
      "text/latex": [
       "$\\displaystyle -  l_{L} \\omega_{1}\\mathbf{\\hat{l}_x} -  l_{U} \\left(\\omega_{1} + \\omega_{2}\\right)\\mathbf{\\hat{u}_x} -  d_{T} \\left(\\omega_{1} + \\omega_{2} + \\omega_{3}\\right)\\mathbf{\\hat{t}_x}$"
      ],
      "text/plain": [
       "- l_L*omega1*L.x - l_U*(omega1 + omega2)*U.x - d_T*(omega1 + omega2 + omega3)*T.x"
      ]
     },
     "execution_count": 10,
     "metadata": {},
     "output_type": "execute_result"
    }
   ],
   "source": [
    "ankle.set_vel(inertial_frame,0)\n",
    "\n",
    "#Lower Leg\n",
    "lower_leg_mass_center.v2pt_theory(ankle,inertial_frame,lower_leg_frame)\n",
    "lower_leg_mass_center.vel(inertial_frame)\n",
    "\n",
    "#Knee\n",
    "knee.v2pt_theory(ankle,inertial_frame,lower_leg_frame)\n",
    "knee.vel(inertial_frame)\n",
    "\n",
    "#Upper Leg\n",
    "upper_leg_mass_center.v2pt_theory(knee,inertial_frame,upper_leg_frame)\n",
    "upper_leg_mass_center.vel(inertial_frame)\n",
    "\n",
    "#Hip\n",
    "hip.v2pt_theory(knee,inertial_frame,upper_leg_frame)\n",
    "hip.vel(inertial_frame)\n",
    "\n",
    "#Torso\n",
    "torso_mass_center.v2pt_theory(hip,inertial_frame,torso_frame)\n",
    "torso_mass_center.vel(inertial_frame)\n"
   ]
  },
  {
   "cell_type": "markdown",
   "metadata": {},
   "source": [
    "# Inertia"
   ]
  },
  {
   "cell_type": "markdown",
   "metadata": {},
   "source": [
    "**Mass:** Define the mass of each segment"
   ]
  },
  {
   "cell_type": "code",
   "execution_count": 11,
   "metadata": {},
   "outputs": [],
   "source": [
    "lower_leg_mass, upper_leg_mass, torso_mass = sm.symbols('m_L, m_U,m_L')"
   ]
  },
  {
   "cell_type": "markdown",
   "metadata": {},
   "source": [
    "**Moment of Inertia:** Define the moment of inertia of each segment"
   ]
  },
  {
   "cell_type": "code",
   "execution_count": 12,
   "metadata": {},
   "outputs": [],
   "source": [
    "lower_leg_inertia, upper_leg_inertia, torso_inertia = sm.symbols('I_Lz I_Uz I_Tz')\n",
    "\n",
    "#Lower Leg\n",
    "lower_leg_inertia_dyadic = me.inertia(lower_leg_frame,0,0,lower_leg_inertia)\n",
    "lower_leg_inertia_dyadic.to_matrix(lower_leg_frame)\n",
    "lower_leg_central_inertia = (lower_leg_inertia_dyadic,lower_leg_mass_center)\n",
    "\n",
    "#Upper Leg\n",
    "upper_leg_inertia_dyadic = me.inertia(upper_leg_frame,0,0,upper_leg_inertia)\n",
    "upper_leg_inertia_dyadic.to_matrix(upper_leg_frame)\n",
    "upper_leg_central_inertia = (upper_leg_inertia_dyadic,upper_leg_mass_center)\n",
    "\n",
    "#Torso\n",
    "torso_inertia_dyadic = me.inertia(torso_frame,0,0,torso_inertia)\n",
    "torso_inertia_dyadic.to_matrix(torso_frame)\n",
    "torso_central_inertia = (torso_inertia_dyadic,torso_mass_center)\n"
   ]
  },
  {
   "cell_type": "markdown",
   "metadata": {},
   "source": [
    "**Rigid Bodies:** Define rigid bodies for each of the segments  "
   ]
  },
  {
   "cell_type": "code",
   "execution_count": 13,
   "metadata": {},
   "outputs": [],
   "source": [
    "lower_leg = me.RigidBody('Lower Leg',lower_leg_mass_center,lower_leg_frame,\n",
    "                         lower_leg_mass,lower_leg_central_inertia )\n",
    "\n",
    "upper_leg = me.RigidBody('Upper Leg',upper_leg_mass_center,upper_leg_frame,\n",
    "                         upper_leg_mass,upper_leg_central_inertia)\n",
    "\n",
    "torso = me.RigidBody('Torso', torso_mass_center, torso_frame,\n",
    "                     torso_mass, torso_central_inertia)\n",
    "\n",
    " "
   ]
  },
  {
   "cell_type": "markdown",
   "metadata": {},
   "source": [
    "# Kinetics"
   ]
  },
  {
   "cell_type": "markdown",
   "metadata": {},
   "source": [
    "**Gravity:** Define the gravitational force for each segment"
   ]
  },
  {
   "cell_type": "code",
   "execution_count": 14,
   "metadata": {},
   "outputs": [],
   "source": [
    "g = sm.symbols('g')\n",
    "\n",
    "#Lower Leg\n",
    "lower_leg_grav_force_vector = -lower_leg_mass*g*inertial_frame.y\n",
    "lower_leg_grav_force = (lower_leg_mass_center,lower_leg_grav_force_vector)\n",
    "#Upper Leg\n",
    "upper_leg_grav_force_vector = -upper_leg_mass*g*inertial_frame.y\n",
    "upper_leg_grav_force = (upper_leg_mass_center,upper_leg_grav_force_vector)\n",
    "#Torso\n",
    "torso_grav_force_vector = -torso_mass*g*inertial_frame.y\n",
    "torso_grav_force = (torso_mass_center,torso_grav_force_vector)\n"
   ]
  },
  {
   "cell_type": "markdown",
   "metadata": {},
   "source": [
    "**Joint Torque:** Define the torque acting at the hip, knee, and ankle"
   ]
  },
  {
   "cell_type": "code",
   "execution_count": 15,
   "metadata": {},
   "outputs": [],
   "source": [
    "ankle_torque, knee_torque, hip_torque = me.dynamicsymbols('T_a T_k T_h')\n",
    "\n",
    "lower_leg_torque_vector = ankle_torque*inertial_frame.z - knee_torque*inertial_frame.z\n",
    "lower_leg_torque = (lower_leg_frame,lower_leg_torque_vector)\n",
    "\n",
    "upper_leg_torque_vector = knee_torque*inertial_frame.z - hip_torque*inertial_frame.z\n",
    "upper_leg_torque = (upper_leg_frame,upper_leg_torque_vector)\n",
    "\n",
    "torso_torque_vector = hip_torque*inertial_frame.z\n",
    "torso_torque = (torso_frame,torso_torque_vector)"
   ]
  },
  {
   "cell_type": "markdown",
   "metadata": {},
   "source": [
    "# Equations of Motion"
   ]
  },
  {
   "cell_type": "markdown",
   "metadata": {},
   "source": [
    "**Kane's Method:** Use *Kane's Method* to determine the equations of motion"
   ]
  },
  {
   "cell_type": "code",
   "execution_count": 16,
   "metadata": {},
   "outputs": [],
   "source": [
    "coordinates = [theta1, theta2, theta3]\n",
    "speeds = [omega1, omega2, omega3]\n",
    "\n",
    "kane = me.KanesMethod(inertial_frame,coordinates,speeds,kinematical_differential_equations)\n",
    "\n",
    "loads = [lower_leg_grav_force,\n",
    "         upper_leg_grav_force,\n",
    "         torso_grav_force,\n",
    "         lower_leg_torque,\n",
    "         upper_leg_torque,\n",
    "         torso_torque]\n",
    "\n",
    "bodies = [lower_leg,upper_leg,torso]\n",
    "\n",
    "fr, frstar = kane.kanes_equations(bodies,loads)\n",
    "sm.trigsimp(fr + frstar)\n",
    "\n",
    "#Pull out the mass and forcing matrix for later use\n",
    "mass_matrix = sm.trigsimp(kane.mass_matrix_full)\n",
    "forcing_vector = sm.trigsimp(kane.forcing_full)\n",
    "\n"
   ]
  },
  {
   "cell_type": "markdown",
   "metadata": {},
   "source": [
    "# Simulate"
   ]
  },
  {
   "cell_type": "markdown",
   "metadata": {},
   "source": [
    "**Variables:** Declare variables for the integration"
   ]
  },
  {
   "cell_type": "code",
   "execution_count": 17,
   "metadata": {},
   "outputs": [],
   "source": [
    "constants = [lower_leg_length,\n",
    "             lower_leg_com_length,\n",
    "             lower_leg_mass,\n",
    "             lower_leg_inertia,\n",
    "             upper_leg_length,\n",
    "             upper_leg_com_length,\n",
    "             upper_leg_mass,\n",
    "             upper_leg_inertia,\n",
    "             torso_com_length,\n",
    "             torso_mass,\n",
    "             torso_inertia,\n",
    "             g]\n",
    "\n",
    "coordinates = [theta1, theta2, theta3]\n",
    "speeds = [omega1, omega2, omega3]\n",
    "\n",
    "specified = [ankle_torque, knee_torque, hip_torque]"
   ]
  },
  {
   "cell_type": "markdown",
   "metadata": {},
   "source": [
    "**Generate Numerical ODE Function:** Use PyDy to generate the ODEs for odeint to integrate"
   ]
  },
  {
   "cell_type": "code",
   "execution_count": 18,
   "metadata": {},
   "outputs": [
    {
     "name": "stdout",
     "output_type": "stream",
     "text": [
      "Help on function rhs in module pydy.codegen.ode_function_generators:\n",
      "\n",
      "rhs(*args)\n",
      "    Returns the derivatives of the states, i.e. numerically evaluates the right\n",
      "    hand side of the first order differential equation.\n",
      "\n",
      "    x' = f(x, t, r, p)\n",
      "\n",
      "    Parameters\n",
      "    ==========\n",
      "    x : ndarray, shape(6,)\n",
      "        The state vector is ordered as such:\n",
      "            - theta1(t)\n",
      "            - theta2(t)\n",
      "            - theta3(t)\n",
      "            - omega1(t)\n",
      "            - omega2(t)\n",
      "            - omega3(t)\n",
      "    t : float\n",
      "        The current time.\n",
      "    r : dictionary; ndarray, shape(3,); function\n",
      "\n",
      "        There are three options for this argument. (1) is more flexible but\n",
      "        (2) and (3) are much more efficient.\n",
      "\n",
      "        (1) A dictionary that maps the specified functions of time to floats,\n",
      "        ndarrays, or functions that produce ndarrays. The keys can be a single\n",
      "        specified symbolic function of time or a tuple of symbols. The total\n",
      "        number of symbols must be equal to 3. If the value is a\n",
      "        function it must be of the form g(x, t), where x is the current state\n",
      "        vector ndarray and t is the current time float and it must return an\n",
      "        ndarray of the correct shape. For example::\n",
      "\n",
      "          r = {a: 1.0,\n",
      "               (d, b) : np.array([1.0, 2.0]),\n",
      "               (e, f) : lambda x, t: np.array(x[0], x[1]),\n",
      "               c: lambda x, t: np.array(x[2])}\n",
      "\n",
      "        (2) A ndarray with the specified values in the correct order and of the\n",
      "        correct shape.\n",
      "\n",
      "        (3) A function that must be of the form g(x, t), where x is the current\n",
      "        state vector and t is the current time and it must return an ndarray of\n",
      "        the correct shape.\n",
      "\n",
      "        The specified inputs are, in order:\n",
      "            - T_a(t)\n",
      "            - T_k(t)\n",
      "            - T_h(t)\n",
      "    p : dictionary len(12) or ndarray shape(12,)\n",
      "        Either a dictionary that maps the constants symbols to their numerical\n",
      "        values or an array with the constants in the following order:\n",
      "            - l_L\n",
      "            - d_L\n",
      "            - m_L\n",
      "            - I_Lz\n",
      "            - l_U\n",
      "            - d_U\n",
      "            - m_U\n",
      "            - I_Uz\n",
      "            - d_T\n",
      "            - m_L\n",
      "            - I_Tz\n",
      "            - g\n",
      "\n",
      "    Returns\n",
      "    =======\n",
      "    dx : ndarray, shape(6,)\n",
      "        The derivative of the state vector.\n",
      "\n"
     ]
    }
   ],
   "source": [
    "right_hand_side = generate_ode_function(forcing_vector,\n",
    "                                        coordinates,speeds,\n",
    "                                        constants,\n",
    "                                        mass_matrix = mass_matrix,\n",
    "                                        specifieds = specified)\n",
    "\n",
    "type(right_hand_side)\n",
    "help(right_hand_side)"
   ]
  },
  {
   "cell_type": "markdown",
   "metadata": {},
   "source": [
    "**Function Inputs:** Set the initial conditions, paramter values, and time array"
   ]
  },
  {
   "cell_type": "code",
   "execution_count": 19,
   "metadata": {},
   "outputs": [],
   "source": [
    "#Initial Conditions\n",
    "x0 = np.zeros(6)\n",
    "\n",
    "#Parameter Values\n",
    "numerical_constants = np.array([0.611,  # lower_leg_length [m]\n",
    "                             0.387,  # lower_leg_com_length [m]\n",
    "                             6.769,  # lower_leg_mass [kg]\n",
    "                             0.101,  # lower_leg_inertia [kg*m^2]\n",
    "                             0.424,  # upper_leg_length [m]\n",
    "                             0.193,  # upper_leg_com_length\n",
    "                             17.01,  # upper_leg_mass [kg]\n",
    "                             0.282,  # upper_leg_inertia [kg*m^2]\n",
    "                             0.305,  # torso_com_length [m]\n",
    "                             32.44,  # torso_mass [kg]\n",
    "                             1.485,  # torso_inertia [kg*m^2]\n",
    "                             9.81],  # acceleration due to gravity [m/s^2]\n",
    "                            ) \n",
    "\n",
    "numerical_specified = np.zeros(3)\n",
    "\n",
    "args = {'constants': numerical_constants,\n",
    "        'specified': numerical_specified}\n",
    "\n",
    "frames_per_sec = 60.0\n",
    "final_time = 5.0\n",
    "\n",
    "t = np.linspace(0.0, final_time, int(final_time * frames_per_sec))\n"
   ]
  },
  {
   "cell_type": "markdown",
   "metadata": {},
   "source": [
    "**Integrate the ODE:** Use odeint to integrate the RHS of the equations of motion"
   ]
  },
  {
   "cell_type": "code",
   "execution_count": 20,
   "metadata": {},
   "outputs": [],
   "source": [
    "y = odeint(right_hand_side,x0,t,args=(numerical_specified,numerical_constants))"
   ]
  },
  {
   "cell_type": "markdown",
   "metadata": {},
   "source": [
    "**Plot:** Plot the coordinates and speeds"
   ]
  },
  {
   "cell_type": "code",
   "execution_count": 21,
   "metadata": {},
   "outputs": [
    {
     "data": {
      "text/plain": [
       "<matplotlib.legend.Legend at 0x1fa759e8ad0>"
      ]
     },
     "execution_count": 21,
     "metadata": {},
     "output_type": "execute_result"
    },
    {
     "data": {
      "image/png": "[encoded data removed]",
      "text/plain": [
       "<Figure size 1400x600 with 1 Axes>"
      ]
     },
     "metadata": {},
     "output_type": "display_data"
    }
   ],
   "source": [
    "plot(t,np.rad2deg(y[:,:3]))\n",
    "xlabel('Time [s]')\n",
    "ylabel('Angle [deg]')\n",
    "legend([\"${}$\".format(vlatex(c)) for c in coordinates])\n",
    "\n"
   ]
  },
  {
   "cell_type": "code",
   "execution_count": 22,
   "metadata": {},
   "outputs": [
    {
     "data": {
      "text/plain": [
       "<matplotlib.legend.Legend at 0x1fa75ac4050>"
      ]
     },
     "execution_count": 22,
     "metadata": {},
     "output_type": "execute_result"
    },
    {
     "data": {
      "image/png": "[encoded data removed]",
      "text/plain": [
       "<Figure size 1400x600 with 1 Axes>"
      ]
     },
     "metadata": {},
     "output_type": "display_data"
    }
   ],
   "source": [
    "plot(t,np.rad2deg(y[:,3:]))\n",
    "xlabel('Time [s]')\n",
    "ylabel('Speed [deg/s]')\n",
    "legend([\"${}$\".format(vlatex(s)) for s in speeds])"
   ]
  },
  {
   "cell_type": "markdown",
   "metadata": {},
   "source": [
    "# Visualization"
   ]
  },
  {
   "cell_type": "code",
   "execution_count": 23,
   "metadata": {},
   "outputs": [],
   "source": [
    "ankle_shape = Sphere(color = 'black', radius = 0.1)\n",
    "knee_shape = Sphere(color = 'black', radius = 0.1)\n",
    "hip_shape = Sphere(color = 'black', radius = 0.1)\n",
    "head_shape = Sphere(color = 'black', radius = 0.125)\n",
    "\n",
    "ankle_viz_frame = VisualizationFrame(inertial_frame,ankle,ankle_shape)\n",
    "knee_viz_frame = VisualizationFrame(inertial_frame,knee,knee_shape)\n",
    "hip_viz_frame = VisualizationFrame(inertial_frame,hip,hip_shape)\n",
    "\n",
    "head = me.Point('N')\n",
    "head.set_pos(hip,2*torso_com_length*torso_frame.y)\n",
    "head_viz_frame = VisualizationFrame(inertial_frame,head,head_shape)\n",
    "\n",
    "lower_leg_center = me.Point('l_c')\n",
    "upper_leg_center = me.Point('u_c')\n",
    "torso_center = me.Point('t_c')\n",
    "\n",
    "lower_leg_center.set_pos(ankle,(lower_leg_length/2)*lower_leg_frame.y)\n",
    "upper_leg_center.set_pos(knee,(upper_leg_length/2)*upper_leg_frame.y)\n",
    "torso_center.set_pos(hip,torso_com_length*torso_frame.y)\n",
    "\n",
    "constants_dict = dict(zip(constants,numerical_constants))\n",
    "\n",
    "lower_leg_shape = Cylinder(radius=0.08, length=constants_dict[lower_leg_length], color='blue')\n",
    "lower_leg_viz_frame = VisualizationFrame('Lower Leg',lower_leg_frame,lower_leg_center,lower_leg_shape)\n",
    "\n",
    "upper_leg_shape = Cylinder(radius=0.08, length=constants_dict[upper_leg_length], color='green')\n",
    "upper_leg_viz_frame = VisualizationFrame('Upper Leg',upper_leg_frame,upper_leg_center,upper_leg_shape)\n",
    "\n",
    "torso_shape = Cylinder(radius=0.08, length=2*constants_dict[torso_com_length], color='red')\n",
    "torso_viz_frame = VisualizationFrame('Torso',torso_frame,torso_center,torso_shape)\n",
    "\n",
    "scene = Scene(inertial_frame,ankle)\n",
    "\n",
    "scene.visualization_frames = [ankle_viz_frame,\n",
    "                              knee_viz_frame,\n",
    "                              hip_viz_frame,\n",
    "                              head_viz_frame,\n",
    "                              lower_leg_viz_frame,\n",
    "                              upper_leg_viz_frame,\n",
    "                              torso_viz_frame]\n",
    "\n",
    "scene.states_symbols = coordinates + speeds\n",
    "scene.constants = constants_dict\n",
    "scene.states_trajectories = y\n",
    "\n"
   ]
  },
  {
   "cell_type": "code",
   "execution_count": 24,
   "metadata": {},
   "outputs": [
    {
     "name": "stdout",
     "output_type": "stream",
     "text": [
      "c:\\Users\\anbes\\Documents\\ReactiveBalanceSim\\Learning\\Feet_In_Place\\pydy-resources\n",
      "Serving HTTP on 127.0.0.1 port 8005 ...\n",
      "To view visualization, open:\n",
      "\n",
      "http://localhost:8005/index.html?load=2025-03-11_10-44-02_scene_desc.json\n",
      "Press Ctrl+C to stop server...\n"
     ]
    },
    {
     "name": "stderr",
     "output_type": "stream",
     "text": [
      "127.0.0.1 - - [11/Mar/2025 10:44:05] \"GET /index.html?load=2025-03-11_10-44-02_scene_desc.json HTTP/1.1\" 200 -\n",
      "127.0.0.1 - - [11/Mar/2025 10:44:05] \"GET /css/bootstrap.min.css HTTP/1.1\" 200 -\n",
      "127.0.0.1 - - [11/Mar/2025 10:44:05] \"GET /css/slider.css HTTP/1.1\" 200 -\n",
      "127.0.0.1 - - [11/Mar/2025 10:44:05] \"GET /css/main.css HTTP/1.1\" 200 -\n",
      "127.0.0.1 - - [11/Mar/2025 10:44:05] \"GET /css/codemirror/codemirror.css HTTP/1.1\" 200 -\n",
      "127.0.0.1 - - [11/Mar/2025 10:44:05] \"GET /css/codemirror/blackboard.css HTTP/1.1\" 200 -\n",
      "127.0.0.1 - - [11/Mar/2025 10:44:05] \"GET /js/external/jquery/jquery.min.js HTTP/1.1\" 200 -\n",
      "127.0.0.1 - - [11/Mar/2025 10:44:05] \"GET /js/external/jquery/jquery-ui.js HTTP/1.1\" 200 -\n",
      "127.0.0.1 - - [11/Mar/2025 10:44:05] \"GET /js/external/bootstrap/bootstrap.min.js HTTP/1.1\" 200 -\n",
      "127.0.0.1 - - [11/Mar/2025 10:44:06] \"GET /js/external/codemirror/codemirror.js HTTP/1.1\" 200 -\n",
      "127.0.0.1 - - [11/Mar/2025 10:44:06] \"GET /js/external/codemirror/javascript-mode.js HTTP/1.1\" 200 -\n",
      "127.0.0.1 - - [11/Mar/2025 10:44:06] \"GET /js/external/three/three.min.js HTTP/1.1\" 200 -\n",
      "127.0.0.1 - - [11/Mar/2025 10:44:07] \"GET /js/external/three/TrackballControls.js HTTP/1.1\" 200 -\n",
      "127.0.0.1 - - [11/Mar/2025 10:44:07] \"GET /js/external/utils/bootstrap-slider.js HTTP/1.1\" 200 -\n",
      "127.0.0.1 - - [11/Mar/2025 10:44:07] \"GET /js/external/utils/modernizr-2.0.6.js HTTP/1.1\" 200 -\n",
      "127.0.0.1 - - [11/Mar/2025 10:44:07] \"GET /js/external/utils/prototype.js HTTP/1.1\" 200 -\n",
      "127.0.0.1 - - [11/Mar/2025 10:44:07] \"GET /js/dyviz/dv.js HTTP/1.1\" 200 -\n",
      "127.0.0.1 - - [11/Mar/2025 10:44:07] \"GET /js/dyviz/scene.js HTTP/1.1\" 200 -\n",
      "127.0.0.1 - - [11/Mar/2025 10:44:07] \"GET /js/dyviz/parser.js HTTP/1.1\" 200 -\n",
      "127.0.0.1 - - [11/Mar/2025 10:44:07] \"GET /js/dyviz/param_editor.js HTTP/1.1\" 200 -\n",
      "127.0.0.1 - - [11/Mar/2025 10:44:07] \"GET /js/dyviz/materials.js HTTP/1.1\" 200 -\n",
      "127.0.0.1 - - [11/Mar/2025 10:44:08] code 404, message File not found\n",
      "127.0.0.1 - - [11/Mar/2025 10:44:08] \"GET /fonts/glyphicons-halflings-regular.woff2 HTTP/1.1\" 404 -\n",
      "127.0.0.1 - - [11/Mar/2025 10:44:08] \"GET /fonts/glyphicons-halflings-regular.woff HTTP/1.1\" 200 -\n",
      "127.0.0.1 - - [11/Mar/2025 10:44:08] \"GET /js/dyviz/main.js HTTP/1.1\" 200 -\n",
      "127.0.0.1 - - [11/Mar/2025 10:44:08] \"GET /2025-03-11_10-44-02_scene_desc.json HTTP/1.1\" 200 -\n",
      "127.0.0.1 - - [11/Mar/2025 10:44:08] code 404, message File not found\n",
      "127.0.0.1 - - [11/Mar/2025 10:44:08] \"GET /favicon.ico HTTP/1.1\" 404 -\n",
      "127.0.0.1 - - [11/Mar/2025 10:44:08] \"GET /2025-03-11_10-44-02_simulation_data.json HTTP/1.1\" 200 -\n"
     ]
    }
   ],
   "source": [
    "scene.display()"
   ]
  }
 ],
 "metadata": {
  "kernelspec": {
   "display_name": "ReactiveBalanceSim",
   "language": "python",
   "name": "python3"
  },
  "language_info": {
   "codemirror_mode": {
    "name": "ipython",
    "version": 3
   },
   "file_extension": ".py",
   "mimetype": "text/x-python",
   "name": "python",
   "nbconvert_exporter": "python",
   "pygments_lexer": "ipython3",
   "version": "3.13.2"
  }
 },
 "nbformat": 4,
 "nbformat_minor": 2
}
